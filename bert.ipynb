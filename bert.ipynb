{
 "cells": [
  {
   "cell_type": "code",
   "execution_count": null,
   "metadata": {
    "colab": {
     "base_uri": "https://localhost:8080/"
    },
    "id": "ba6ph4mLxGo-",
    "outputId": "69cf6ec6-7187-4d44-aa45-69aeef607c01"
   },
   "outputs": [],
   "source": [
    "from google.colab import drive\n",
    "drive.mount('/content/drive')"
   ]
  },
  {
   "cell_type": "code",
   "execution_count": null,
   "metadata": {
    "id": "e302uoCUjdAo"
   },
   "outputs": [],
   "source": [
    "!unzip -q \"C:\\Users\\User\\Desktop\" -d /content/"
   ]
  },
  {
   "cell_type": "code",
   "execution_count": 2,
   "metadata": {
    "id": "BELg55x-yj85"
   },
   "outputs": [],
   "source": [
    "import pandas as pd\n",
    "import numpy as np\n",
    "import re\n",
    "import matplotlib.pyplot as plt\n",
    "import seaborn as sns\n",
    "import keras\n",
    "from tensorflow.keras.models import Model\n",
    "import tensorflow as tf\n",
    "import tensorflow_hub as hub\n",
    "import os\n",
    "import warnings\n",
    "warnings.filterwarnings('ignore')\n",
    "os.environ['TF_CPP_MIN_LOG_LEVEL'] = '3'"
   ]
  },
  {
   "cell_type": "code",
   "execution_count": 8,
   "metadata": {
    "colab": {
     "base_uri": "https://localhost:8080/",
     "height": 206
    },
    "id": "GgbFnNdGHfZ0",
    "outputId": "8fec1ae3-6a65-492a-8fc4-24e6692c447a"
   },
   "outputs": [
    {
     "data": {
      "text/html": [
       "<div>\n",
       "<style scoped>\n",
       "    .dataframe tbody tr th:only-of-type {\n",
       "        vertical-align: middle;\n",
       "    }\n",
       "\n",
       "    .dataframe tbody tr th {\n",
       "        vertical-align: top;\n",
       "    }\n",
       "\n",
       "    .dataframe thead th {\n",
       "        text-align: right;\n",
       "    }\n",
       "</style>\n",
       "<table border=\"1\" class=\"dataframe\">\n",
       "  <thead>\n",
       "    <tr style=\"text-align: right;\">\n",
       "      <th></th>\n",
       "      <th>Text</th>\n",
       "      <th>Score</th>\n",
       "    </tr>\n",
       "  </thead>\n",
       "  <tbody>\n",
       "    <tr>\n",
       "      <th>0</th>\n",
       "      <td>I have bought several of the Vitality canned d...</td>\n",
       "      <td>5</td>\n",
       "    </tr>\n",
       "    <tr>\n",
       "      <th>1</th>\n",
       "      <td>Product arrived labeled as Jumbo Salted Peanut...</td>\n",
       "      <td>1</td>\n",
       "    </tr>\n",
       "    <tr>\n",
       "      <th>2</th>\n",
       "      <td>This is a confection that has been around a fe...</td>\n",
       "      <td>4</td>\n",
       "    </tr>\n",
       "    <tr>\n",
       "      <th>3</th>\n",
       "      <td>If you are looking for the secret ingredient i...</td>\n",
       "      <td>2</td>\n",
       "    </tr>\n",
       "    <tr>\n",
       "      <th>4</th>\n",
       "      <td>Great taffy at a great price.  There was a wid...</td>\n",
       "      <td>5</td>\n",
       "    </tr>\n",
       "  </tbody>\n",
       "</table>\n",
       "</div>"
      ],
      "text/plain": [
       "                                                Text  Score\n",
       "0  I have bought several of the Vitality canned d...      5\n",
       "1  Product arrived labeled as Jumbo Salted Peanut...      1\n",
       "2  This is a confection that has been around a fe...      4\n",
       "3  If you are looking for the secret ingredient i...      2\n",
       "4  Great taffy at a great price.  There was a wid...      5"
      ]
     },
     "execution_count": 8,
     "metadata": {},
     "output_type": "execute_result"
    }
   ],
   "source": [
    "df=pd.read_csv(\"C:\\\\Users\\\\User\\\\Desktop\\\\Reviews.csv\", encoding='latin-1', index_col=0)\n",
    "df=df.loc[:,[\"Text\",\"Score\"]].dropna().reset_index(drop=True)\n",
    "df.head()"
   ]
  },
  {
   "cell_type": "code",
   "execution_count": 9,
   "metadata": {
    "id": "jbJiSi4xDwWX"
   },
   "outputs": [
    {
     "data": {
      "text/plain": [
       "1    443777\n",
       "0     82037\n",
       "Name: Score, dtype: int64"
      ]
     },
     "execution_count": 9,
     "metadata": {},
     "output_type": "execute_result"
    }
   ],
   "source": [
    "df.loc[df['Score'] <=2, 'Score'] = 0\n",
    "df.loc[df['Score'] > 3, 'Score'] = 1\n",
    "df.drop(df[df['Score']==3].index,inplace=True)\n",
    "df[\"Score\"].value_counts()"
   ]
  },
  {
   "cell_type": "code",
   "execution_count": 10,
   "metadata": {
    "id": "kBvk4I_uOqL9"
   },
   "outputs": [
    {
     "data": {
      "text/plain": [
       "Text(0.5, 1.0, 'Bar plot of sentiments')"
      ]
     },
     "execution_count": 10,
     "metadata": {},
     "output_type": "execute_result"
    },
    {
     "data": {
      "image/png": "[encoded data removed]",
      "text/plain": [
       "<Figure size 720x504 with 1 Axes>"
      ]
     },
     "metadata": {
      "needs_background": "light"
     },
     "output_type": "display_data"
    }
   ],
   "source": [
    "plt.figure(figsize = (10,7))\n",
    "sns.countplot(df['Score'])\n",
    "plt.title(\"Bar plot of sentiments\")"
   ]
  },
  {
   "cell_type": "code",
   "execution_count": 11,
   "metadata": {
    "id": "cbwkvxKYE89o"
   },
   "outputs": [],
   "source": [
    "df['len'] = df.Text.apply(lambda x: len(x.split()))\n",
    "df['Text']=df['Text'].apply(lambda row : re.sub('<.*?>','',row))"
   ]
  },
  {
   "cell_type": "code",
   "execution_count": 12,
   "metadata": {
    "colab": {
     "base_uri": "https://localhost:8080/",
     "height": 206
    },
    "id": "grueTssNFCFk",
    "outputId": "5bfd5a42-6085-4e90-ff37-8c7062a2f448"
   },
   "outputs": [
    {
     "data": {
      "text/html": [
       "<div>\n",
       "<style scoped>\n",
       "    .dataframe tbody tr th:only-of-type {\n",
       "        vertical-align: middle;\n",
       "    }\n",
       "\n",
       "    .dataframe tbody tr th {\n",
       "        vertical-align: top;\n",
       "    }\n",
       "\n",
       "    .dataframe thead th {\n",
       "        text-align: right;\n",
       "    }\n",
       "</style>\n",
       "<table border=\"1\" class=\"dataframe\">\n",
       "  <thead>\n",
       "    <tr style=\"text-align: right;\">\n",
       "      <th></th>\n",
       "      <th>Text</th>\n",
       "      <th>Score</th>\n",
       "      <th>len</th>\n",
       "    </tr>\n",
       "  </thead>\n",
       "  <tbody>\n",
       "    <tr>\n",
       "      <th>0</th>\n",
       "      <td>I have bought several of the Vitality canned d...</td>\n",
       "      <td>1</td>\n",
       "      <td>48</td>\n",
       "    </tr>\n",
       "    <tr>\n",
       "      <th>1</th>\n",
       "      <td>Product arrived labeled as Jumbo Salted Peanut...</td>\n",
       "      <td>0</td>\n",
       "      <td>31</td>\n",
       "    </tr>\n",
       "    <tr>\n",
       "      <th>2</th>\n",
       "      <td>This is a confection that has been around a fe...</td>\n",
       "      <td>1</td>\n",
       "      <td>94</td>\n",
       "    </tr>\n",
       "    <tr>\n",
       "      <th>3</th>\n",
       "      <td>If you are looking for the secret ingredient i...</td>\n",
       "      <td>0</td>\n",
       "      <td>41</td>\n",
       "    </tr>\n",
       "    <tr>\n",
       "      <th>4</th>\n",
       "      <td>Great taffy at a great price.  There was a wid...</td>\n",
       "      <td>1</td>\n",
       "      <td>27</td>\n",
       "    </tr>\n",
       "  </tbody>\n",
       "</table>\n",
       "</div>"
      ],
      "text/plain": [
       "                                                Text  Score  len\n",
       "0  I have bought several of the Vitality canned d...      1   48\n",
       "1  Product arrived labeled as Jumbo Salted Peanut...      0   31\n",
       "2  This is a confection that has been around a fe...      1   94\n",
       "3  If you are looking for the secret ingredient i...      0   41\n",
       "4  Great taffy at a great price.  There was a wid...      1   27"
      ]
     },
     "execution_count": 12,
     "metadata": {},
     "output_type": "execute_result"
    }
   ],
   "source": [
    "df.head()"
   ]
  },
  {
   "cell_type": "code",
   "execution_count": 13,
   "metadata": {
    "colab": {
     "base_uri": "https://localhost:8080/"
    },
    "id": "KI_VD3qSudDM",
    "outputId": "9349ce51-37ea-4b77-9828-e74661dd7690"
   },
   "outputs": [
    {
     "name": "stdout",
     "output_type": "stream",
     "text": [
      "(420651, 2) (420651,) (105163, 2) (105163,)\n"
     ]
    }
   ],
   "source": [
    "from sklearn.model_selection import train_test_split\n",
    "X_train, X_test, y_train, y_test = train_test_split(df[['Text','len']],df.Score, test_size=0.2, random_state=42, stratify=df.Score)\n",
    "print(X_train.shape,y_train.shape,X_test.shape,y_test.shape)"
   ]
  },
  {
   "cell_type": "code",
   "execution_count": 14,
   "metadata": {
    "id": "WqIW-20xIVU8"
   },
   "outputs": [],
   "source": [
    "max_seq_length = 60\n",
    "tf.keras.backend.clear_session()\n",
    "input_word_ids = tf.keras.layers.Input(shape=(max_seq_length,), dtype=tf.int32, name=\"input_word_ids\")\n",
    "input_mask = tf.keras.layers.Input(shape=(max_seq_length,), dtype=tf.int32, name=\"input_mask\")\n",
    "segment_ids = tf.keras.layers.Input(shape=(max_seq_length,), dtype=tf.int32, name=\"segment_ids\")\n",
    "bert_layer = hub.KerasLayer(\"https://tfhub.dev/tensorflow/bert_en_uncased_L-12_H-768_A-12/1\", trainable=False)\n",
    "pooled_output, sequence_output = bert_layer([input_word_ids, input_mask, segment_ids])\n",
    "bert_model = Model(inputs=[input_word_ids, input_mask, segment_ids], outputs=pooled_output)"
   ]
  },
  {
   "cell_type": "code",
   "execution_count": 15,
   "metadata": {
    "colab": {
     "base_uri": "https://localhost:8080/"
    },
    "id": "rBvKRk3xIj_V",
    "outputId": "c54a493c-38e8-4a90-90d0-9c5bec0a17aa"
   },
   "outputs": [
    {
     "name": "stdout",
     "output_type": "stream",
     "text": [
      "Model: \"model\"\n",
      "__________________________________________________________________________________________________\n",
      " Layer (type)                   Output Shape         Param #     Connected to                     \n",
      "==================================================================================================\n",
      " input_word_ids (InputLayer)    [(None, 60)]         0           []                               \n",
      "                                                                                                  \n",
      " input_mask (InputLayer)        [(None, 60)]         0           []                               \n",
      "                                                                                                  \n",
      " segment_ids (InputLayer)       [(None, 60)]         0           []                               \n",
      "                                                                                                  \n",
      " keras_layer (KerasLayer)       [(None, 768),        109482241   ['input_word_ids[0][0]',         \n",
      "                                 (None, 60, 768)]                 'input_mask[0][0]',             \n",
      "                                                                  'segment_ids[0][0]']            \n",
      "                                                                                                  \n",
      "==================================================================================================\n",
      "Total params: 109,482,241\n",
      "Trainable params: 0\n",
      "Non-trainable params: 109,482,241\n",
      "__________________________________________________________________________________________________\n"
     ]
    }
   ],
   "source": [
    "bert_model.summary()"
   ]
  },
  {
   "cell_type": "code",
   "execution_count": 16,
   "metadata": {
    "id": "9Poqd3W8MRV4"
   },
   "outputs": [],
   "source": [
    "vocab_file = bert_layer.resolved_object.vocab_file.asset_path.numpy()\n",
    "do_lower_case = bert_layer.resolved_object.do_lower_case.numpy()"
   ]
  },
  {
   "cell_type": "code",
   "execution_count": 17,
   "metadata": {
    "id": "FMNcl0lIMT44"
   },
   "outputs": [
    {
     "name": "stderr",
     "output_type": "stream",
     "text": [
      "'wget' is not recognized as an internal or external command,\n",
      "operable program or batch file.\n"
     ]
    }
   ],
   "source": [
    "!wget --quiet https://raw.githubusercontent.com/tensorflow/models/master/official/nlp/bert/tokenization.py"
   ]
  },
  {
   "cell_type": "code",
   "execution_count": 18,
   "metadata": {
    "colab": {
     "base_uri": "https://localhost:8080/"
    },
    "id": "q5e9QLQXTNwl",
    "outputId": "29127d90-d96e-4655-cbc2-5dd465773669"
   },
   "outputs": [
    {
     "name": "stdout",
     "output_type": "stream",
     "text": [
      "Collecting bert-tensorflow==1.0.1\n",
      "  Downloading bert_tensorflow-1.0.1-py2.py3-none-any.whl (67 kB)\n",
      "Requirement already satisfied: six in c:\\users\\user\\anaconda3\\lib\\site-packages (from bert-tensorflow==1.0.1) (1.15.0)\n",
      "Installing collected packages: bert-tensorflow\n",
      "Successfully installed bert-tensorflow-1.0.1\n"
     ]
    }
   ],
   "source": [
    "!pip install bert-tensorflow==1.0.1\n",
    "from bert import tokenization\n",
    "tf.gfile = tf.io.gfile\n",
    "tokenizer =tokenization.FullTokenizer(vocab_file,do_lower_case)"
   ]
  },
  {
   "cell_type": "code",
   "execution_count": 19,
   "metadata": {
    "id": "uMECikukMjW_"
   },
   "outputs": [],
   "source": [
    "def bert_preprocess(sentence,tokenizer,max_seq_len=512):\n",
    "    tokens=[]\n",
    "    masks=[]\n",
    "    segments=[]\n",
    "    for word in sentence:\n",
    "        word=tokenizer.tokenize(word)\n",
    "        word=word[:max_seq_len-2]\n",
    "        seq=[\"[CLS]\"] + word + [\"[SEP]\"]\n",
    "        token = tokenizer.convert_tokens_to_ids(seq)\n",
    "        padding_tokens=token+[0]*(max_seq_len-len(token))\n",
    "        mask=[1]*len(seq)\n",
    "        masking=mask+[0]*(max_seq_len-len(token))\n",
    "        segment=np.zeros(max_seq_length)\n",
    "        \n",
    "        tokens.append(padding_tokens)\n",
    "        masks.append(masking)\n",
    "        segments.append(segment)\n",
    "    return np.array(tokens),np.array(masks),np.array(segments)"
   ]
  },
  {
   "cell_type": "code",
   "execution_count": 20,
   "metadata": {
    "colab": {
     "base_uri": "https://localhost:8080/"
    },
    "id": "9oTWI-t1Q9TV",
    "outputId": "b2544284-a42d-4d91-94c4-1a59fbd32be5"
   },
   "outputs": [
    {
     "data": {
      "text/plain": [
       "[<KerasTensor: shape=(None, 60) dtype=int32 (created by layer 'input_word_ids')>,\n",
       " <KerasTensor: shape=(None, 60) dtype=int32 (created by layer 'input_mask')>,\n",
       " <KerasTensor: shape=(None, 60) dtype=int32 (created by layer 'segment_ids')>]"
      ]
     },
     "execution_count": 20,
     "metadata": {},
     "output_type": "execute_result"
    }
   ],
   "source": [
    "bert_model.input"
   ]
  },
  {
   "cell_type": "code",
   "execution_count": 21,
   "metadata": {
    "colab": {
     "base_uri": "https://localhost:8080/"
    },
    "id": "OUeOCwPtQ_oQ",
    "outputId": "42a1cd19-54b8-4367-8f7e-9d934bb8da2a"
   },
   "outputs": [
    {
     "data": {
      "text/plain": [
       "<KerasTensor: shape=(None, 768) dtype=float32 (created by layer 'keras_layer')>"
      ]
     },
     "execution_count": 21,
     "metadata": {},
     "output_type": "execute_result"
    }
   ],
   "source": [
    "bert_model.output"
   ]
  },
  {
   "cell_type": "code",
   "execution_count": 22,
   "metadata": {
    "id": "5kBmetF4RCsZ"
   },
   "outputs": [],
   "source": [
    "X_train_tokens, X_train_mask, X_train_segment=bert_preprocess(X_train.Text.values,tokenizer,60)\n",
    "X_test_tokens, X_test_mask, X_test_segment=bert_preprocess(X_test.Text.values,tokenizer,60)"
   ]
  },
  {
   "cell_type": "code",
   "execution_count": 23,
   "metadata": {
    "id": "10UZhIxLRF5E"
   },
   "outputs": [],
   "source": [
    "X_train_pooled_output=bert_model.predict([X_train_tokens,X_train_mask,X_train_segment])\n",
    "X_test_pooled_output=bert_model.predict([X_test_tokens,X_test_mask,X_test_segment])"
   ]
  },
  {
   "cell_type": "code",
   "execution_count": 24,
   "metadata": {
    "id": "A45K_jytRJaG"
   },
   "outputs": [],
   "source": [
    "from tensorflow.keras.layers import Input, Dense, Activation, Dropout\n",
    "from sklearn.metrics import roc_auc_score\n",
    "import datetime"
   ]
  },
  {
   "cell_type": "code",
   "execution_count": 25,
   "metadata": {
    "id": "8F0Bq9y9RQXp"
   },
   "outputs": [],
   "source": [
    "auc=[]\n",
    "val_auc=[]\n",
    "class LossHistory(tf.keras.callbacks.Callback):\n",
    "    \n",
    "    def on_train_begin(self, logs={}):\n",
    "        self.history={'val_accuracy': []}\n",
    "\n",
    "\n",
    "    def on_epoch_end(self, epoch, logs={}):\n",
    "        ## on end of each epoch, we will get logs and update the self.history dict\n",
    "        if logs.get('val_accuracy', -1) != -1:\n",
    "            self.history['val_accuracy'].append(logs.get('val_accuracy'))\n",
    "        auc_tr=(roc_auc_score(y_train,(self.model.predict(X_train_pooled_output))) )\n",
    "        auc_test=(roc_auc_score (y_test, (self.model.predict(X_test_pooled_output) ) ) )\n",
    "        print('\\n  train_auc : ',auc_tr)\n",
    "        print('  val_auc : ',auc_test)\n",
    "        auc.append(auc_tr)\n",
    "        val_auc.append(auc_test)\n",
    "        loss=logs.get('loss')"
   ]
  },
  {
   "cell_type": "code",
   "execution_count": 26,
   "metadata": {
    "id": "Wxdo_bfSRTar"
   },
   "outputs": [],
   "source": [
    "filepath=\"model1_save/weights-{epoch:02d}-{val_accuracy:.4f}.hdf5\"\n",
    "checkpoint = tf.keras.callbacks.ModelCheckpoint(filepath=filepath, monitor='val_loss',  verbose=1, save_best_only=True, mode='auto')\n",
    "\n",
    "history_own = LossHistory()\n",
    "\n",
    "earlystop = tf.keras.callbacks.EarlyStopping(monitor='val_accuracy',mode='max', patience=2, verbose=1)"
   ]
  },
  {
   "cell_type": "code",
   "execution_count": 27,
   "metadata": {
    "id": "LwUXP34dRVd6"
   },
   "outputs": [
    {
     "name": "stdout",
     "output_type": "stream",
     "text": [
      "You must install pydot (`pip install pydot`) and install graphviz (see instructions at https://graphviz.gitlab.io/download/) for plot_model/model_to_dot to work.\n"
     ]
    }
   ],
   "source": [
    "input = Input(shape=[768,],name='input_layer')\n",
    "dense1=Dense(400, activation='relu',name='dense_1')(input)\n",
    "dense2=Dense(220, activation='relu',name='dense_2')(dense1)\n",
    "dense3=Dense(40, activation='relu',name='dense_3')(dense2)\n",
    "output=Dense(1, activation='sigmoid',name='dense_4')(dense3)\n",
    "model1 = Model(inputs=input, outputs=output)\n",
    "tf.keras.utils.plot_model(model1,\"model_1.png\",show_shapes=True)"
   ]
  },
  {
   "cell_type": "code",
   "execution_count": 28,
   "metadata": {
    "id": "jMPR20C7RW8G"
   },
   "outputs": [],
   "source": [
    "opt= tf.keras.optimizers.Adam(learning_rate=0.001)\n",
    "model1.compile(optimizer=opt,loss=tf.keras.losses.BinaryCrossentropy(),metrics='accuracy')"
   ]
  },
  {
   "cell_type": "code",
   "execution_count": 29,
   "metadata": {
    "id": "LDF1_QCsRXdq"
   },
   "outputs": [
    {
     "data": {
      "text/plain": [
       "(105163, 768)"
      ]
     },
     "execution_count": 29,
     "metadata": {},
     "output_type": "execute_result"
    }
   ],
   "source": [
    "X_test_pooled_output.shape"
   ]
  },
  {
   "cell_type": "code",
   "execution_count": 30,
   "metadata": {
    "id": "DxQNd59oRcLH"
   },
   "outputs": [
    {
     "name": "stdout",
     "output_type": "stream",
     "text": [
      "Epoch 1/50\n"
     ]
    },
    {
     "name": "stderr",
     "output_type": "stream",
     "text": [
      "'rm' is not recognized as an internal or external command,\n",
      "operable program or batch file.\n"
     ]
    },
    {
     "name": "stdout",
     "output_type": "stream",
     "text": [
      "13140/13146 [============================>.] - ETA: 0s - loss: 0.3001 - accuracy: 0.8738\n",
      "  train_auc :  0.8997839160128778\n",
      "  val_auc :  0.900593619015557\n",
      "13146/13146 [==============================] - 31s 2ms/step - loss: 0.3001 - accuracy: 0.8739 - val_loss: 0.2678 - val_accuracy: 0.8877\n",
      "Epoch 2/50\n",
      "13118/13146 [============================>.] - ETA: 0s - loss: 0.2760 - accuracy: 0.8844\n",
      "  train_auc :  0.9047661185387328\n",
      "  val_auc :  0.9053596375209573\n",
      "13146/13146 [==============================] - 31s 2ms/step - loss: 0.2761 - accuracy: 0.8843 - val_loss: 0.2658 - val_accuracy: 0.8868\n",
      "Epoch 3/50\n",
      "13118/13146 [============================>.] - ETA: 0s - loss: 0.2700 - accuracy: 0.8870\n",
      "  train_auc :  0.9075879053344822\n",
      "  val_auc :  0.9079578924551447\n",
      "13146/13146 [==============================] - 30s 2ms/step - loss: 0.2700 - accuracy: 0.8870 - val_loss: 0.2591 - val_accuracy: 0.8916\n",
      "Epoch 4/50\n",
      "13128/13146 [============================>.] - ETA: 0s - loss: 0.2665 - accuracy: 0.8884\n",
      "  train_auc :  0.9051748610692564\n",
      "  val_auc :  0.9053904110369633\n",
      "13146/13146 [==============================] - 30s 2ms/step - loss: 0.2664 - accuracy: 0.8884 - val_loss: 0.2847 - val_accuracy: 0.8843\n",
      "Epoch 5/50\n",
      "13138/13146 [============================>.] - ETA: 0s - loss: 0.2634 - accuracy: 0.8898\n",
      "  train_auc :  0.907865621135344\n",
      "  val_auc :  0.9081698800430725\n",
      "13146/13146 [==============================] - 30s 2ms/step - loss: 0.2634 - accuracy: 0.8898 - val_loss: 0.2738 - val_accuracy: 0.8796\n",
      "Epoch 6/50\n",
      "13137/13146 [============================>.] - ETA: 0s - loss: 0.2611 - accuracy: 0.8907\n",
      "  train_auc :  0.9104624335899356\n",
      "  val_auc :  0.9104310907093542\n",
      "13146/13146 [==============================] - 30s 2ms/step - loss: 0.2611 - accuracy: 0.8907 - val_loss: 0.2708 - val_accuracy: 0.8857\n",
      "Epoch 7/50\n",
      "13121/13146 [============================>.] - ETA: 0s - loss: 0.2595 - accuracy: 0.8913\n",
      "  train_auc :  0.911566070815014\n",
      "  val_auc :  0.9117024328771404\n",
      "13146/13146 [==============================] - 31s 2ms/step - loss: 0.2595 - accuracy: 0.8913 - val_loss: 0.2597 - val_accuracy: 0.8881\n",
      "Epoch 8/50\n",
      "13140/13146 [============================>.] - ETA: 0s - loss: 0.2579 - accuracy: 0.8921\n",
      "  train_auc :  0.9124837222997648\n",
      "  val_auc :  0.9122233381390092\n",
      "13146/13146 [==============================] - 30s 2ms/step - loss: 0.2579 - accuracy: 0.8921 - val_loss: 0.2642 - val_accuracy: 0.8905\n",
      "Epoch 9/50\n",
      "13124/13146 [============================>.] - ETA: 0s - loss: 0.2562 - accuracy: 0.8930\n",
      "  train_auc :  0.9139882458202498\n",
      "  val_auc :  0.9137490402787384\n",
      "13146/13146 [==============================] - 30s 2ms/step - loss: 0.2562 - accuracy: 0.8930 - val_loss: 0.2597 - val_accuracy: 0.8890\n",
      "Epoch 10/50\n",
      "13144/13146 [============================>.] - ETA: 0s - loss: 0.2548 - accuracy: 0.8936\n",
      "  train_auc :  0.913151563958427\n",
      "  val_auc :  0.9127074021191028\n",
      "13146/13146 [==============================] - 31s 2ms/step - loss: 0.2548 - accuracy: 0.8936 - val_loss: 0.2547 - val_accuracy: 0.8937\n",
      "Epoch 11/50\n",
      "13123/13146 [============================>.] - ETA: 0s - loss: 0.2539 - accuracy: 0.8941\n",
      "  train_auc :  0.9158342422317314\n",
      "  val_auc :  0.9153616949577689\n",
      "13146/13146 [==============================] - 30s 2ms/step - loss: 0.2539 - accuracy: 0.8941 - val_loss: 0.2507 - val_accuracy: 0.8936\n",
      "Epoch 12/50\n",
      "13140/13146 [============================>.] - ETA: 0s - loss: 0.2528 - accuracy: 0.8945\n",
      "  train_auc :  0.9155082077125879\n",
      "  val_auc :  0.9152132863754736\n",
      "13146/13146 [==============================] - 30s 2ms/step - loss: 0.2528 - accuracy: 0.8946 - val_loss: 0.2681 - val_accuracy: 0.8922\n",
      "Epoch 13/50\n",
      "13132/13146 [============================>.] - ETA: 0s - loss: 0.2521 - accuracy: 0.8944\n",
      "  train_auc :  0.9141705125522073\n",
      "  val_auc :  0.9141146612787323\n",
      "13146/13146 [==============================] - 30s 2ms/step - loss: 0.2521 - accuracy: 0.8944 - val_loss: 0.2698 - val_accuracy: 0.8873\n",
      "Epoch 14/50\n",
      "13124/13146 [============================>.] - ETA: 0s - loss: 0.2515 - accuracy: 0.8948\n",
      "  train_auc :  0.9157847286007343\n",
      "  val_auc :  0.9155461939049235\n",
      "13146/13146 [==============================] - 31s 2ms/step - loss: 0.2515 - accuracy: 0.8948 - val_loss: 0.2575 - val_accuracy: 0.8933\n",
      "Epoch 15/50\n",
      "13129/13146 [============================>.] - ETA: 0s - loss: 0.2502 - accuracy: 0.8956\n",
      "  train_auc :  0.918643617282862\n",
      "  val_auc :  0.9179006137214081\n",
      "13146/13146 [==============================] - 31s 2ms/step - loss: 0.2502 - accuracy: 0.8956 - val_loss: 0.2466 - val_accuracy: 0.8984\n",
      "Epoch 16/50\n",
      "13130/13146 [============================>.] - ETA: 0s - loss: 0.2496 - accuracy: 0.8954\n",
      "  train_auc :  0.9187747423600439\n",
      "  val_auc :  0.9178741074186765\n",
      "13146/13146 [==============================] - 31s 2ms/step - loss: 0.2496 - accuracy: 0.8954 - val_loss: 0.2458 - val_accuracy: 0.8971\n",
      "Epoch 17/50\n",
      "13114/13146 [============================>.] - ETA: 0s - loss: 0.2488 - accuracy: 0.8956\n",
      "  train_auc :  0.9183245476909021\n",
      "  val_auc :  0.9174040341160282\n",
      "13146/13146 [==============================] - 31s 2ms/step - loss: 0.2488 - accuracy: 0.8956 - val_loss: 0.2478 - val_accuracy: 0.8960\n",
      "Epoch 18/50\n",
      "13129/13146 [============================>.] - ETA: 0s - loss: 0.2483 - accuracy: 0.8959\n",
      "  train_auc :  0.9185308825267462\n",
      "  val_auc :  0.9179628278917684\n",
      "13146/13146 [==============================] - 31s 2ms/step - loss: 0.2483 - accuracy: 0.8960 - val_loss: 0.2555 - val_accuracy: 0.8923\n",
      "Epoch 19/50\n",
      "13145/13146 [============================>.] - ETA: 0s - loss: 0.2477 - accuracy: 0.8964\n",
      "  train_auc :  0.9191200326069304\n",
      "  val_auc :  0.918604346479336\n",
      "13146/13146 [==============================] - 31s 2ms/step - loss: 0.2478 - accuracy: 0.8964 - val_loss: 0.2446 - val_accuracy: 0.8971\n",
      "Epoch 20/50\n",
      "13141/13146 [============================>.] - ETA: 0s - loss: 0.2475 - accuracy: 0.8965\n",
      "  train_auc :  0.9203357027863996\n",
      "  val_auc :  0.9192127285832639\n",
      "13146/13146 [==============================] - 31s 2ms/step - loss: 0.2475 - accuracy: 0.8965 - val_loss: 0.2440 - val_accuracy: 0.8989\n",
      "Epoch 21/50\n",
      "13141/13146 [============================>.] - ETA: 0s - loss: 0.2471 - accuracy: 0.8971\n",
      "  train_auc :  0.920729195356859\n",
      "  val_auc :  0.9198154055040755\n",
      "13146/13146 [==============================] - 31s 2ms/step - loss: 0.2471 - accuracy: 0.8971 - val_loss: 0.2432 - val_accuracy: 0.8984\n",
      "Epoch 22/50\n",
      "13141/13146 [============================>.] - ETA: 0s - loss: 0.2463 - accuracy: 0.8973\n",
      "  train_auc :  0.9205069138879751\n",
      "  val_auc :  0.9196906897753997\n",
      "13146/13146 [==============================] - 31s 2ms/step - loss: 0.2464 - accuracy: 0.8973 - val_loss: 0.2413 - val_accuracy: 0.8987\n",
      "Epoch 23/50\n",
      "13122/13146 [============================>.] - ETA: 0s - loss: 0.2458 - accuracy: 0.8972\n",
      "  train_auc :  0.9212158403681042\n",
      "  val_auc :  0.9203164308672185\n",
      "13146/13146 [==============================] - 31s 2ms/step - loss: 0.2458 - accuracy: 0.8972 - val_loss: 0.2477 - val_accuracy: 0.8944\n",
      "Epoch 24/50\n",
      "13134/13146 [============================>.] - ETA: 0s - loss: 0.2456 - accuracy: 0.8974\n",
      "  train_auc :  0.9209159896584381\n",
      "  val_auc :  0.919914672462759\n",
      "13146/13146 [==============================] - 31s 2ms/step - loss: 0.2456 - accuracy: 0.8974 - val_loss: 0.2463 - val_accuracy: 0.8955\n",
      "Epoch 25/50\n",
      "13123/13146 [============================>.] - ETA: 0s - loss: 0.2457 - accuracy: 0.8974\n",
      "  train_auc :  0.9165428571242551\n",
      "  val_auc :  0.9155080286470951\n",
      "13146/13146 [==============================] - 31s 2ms/step - loss: 0.2457 - accuracy: 0.8974 - val_loss: 0.2561 - val_accuracy: 0.8937\n",
      "Epoch 26/50\n",
      "13117/13146 [============================>.] - ETA: 0s - loss: 0.2447 - accuracy: 0.8978\n",
      "  train_auc :  0.9188710796896746\n",
      "  val_auc :  0.917997487153882\n",
      "13146/13146 [==============================] - 31s 2ms/step - loss: 0.2447 - accuracy: 0.8978 - val_loss: 0.2577 - val_accuracy: 0.8919\n",
      "Epoch 27/50\n",
      "13132/13146 [============================>.] - ETA: 0s - loss: 0.2440 - accuracy: 0.8981\n",
      "  train_auc :  0.9216061092944006\n",
      "  val_auc :  0.9202112616397717\n",
      "13146/13146 [==============================] - 31s 2ms/step - loss: 0.2440 - accuracy: 0.8981 - val_loss: 0.2419 - val_accuracy: 0.9000\n",
      "Epoch 28/50\n"
     ]
    },
    {
     "name": "stdout",
     "output_type": "stream",
     "text": [
      "13146/13146 [==============================] - ETA: 0s - loss: 0.2440 - accuracy: 0.8981\n",
      "  train_auc :  0.9228453064410729\n",
      "  val_auc :  0.9214407557263002\n",
      "13146/13146 [==============================] - 31s 2ms/step - loss: 0.2440 - accuracy: 0.8981 - val_loss: 0.2409 - val_accuracy: 0.8994\n",
      "Epoch 29/50\n",
      "13118/13146 [============================>.] - ETA: 0s - loss: 0.2437 - accuracy: 0.8982\n",
      "  train_auc :  0.9230591099803143\n",
      "  val_auc :  0.9214960753325673\n",
      "13146/13146 [==============================] - 31s 2ms/step - loss: 0.2436 - accuracy: 0.8982 - val_loss: 0.2407 - val_accuracy: 0.9001\n",
      "Epoch 30/50\n",
      "13127/13146 [============================>.] - ETA: 0s - loss: 0.2434 - accuracy: 0.8987\n",
      "  train_auc :  0.9229090578445192\n",
      "  val_auc :  0.9215648393388158\n",
      "13146/13146 [==============================] - 31s 2ms/step - loss: 0.2434 - accuracy: 0.8987 - val_loss: 0.2444 - val_accuracy: 0.8962\n",
      "Epoch 31/50\n",
      "13116/13146 [============================>.] - ETA: 0s - loss: 0.2433 - accuracy: 0.8984\n",
      "  train_auc :  0.9218932602555048\n",
      "  val_auc :  0.9205055414124973\n",
      "13146/13146 [==============================] - 31s 2ms/step - loss: 0.2433 - accuracy: 0.8984 - val_loss: 0.2436 - val_accuracy: 0.8974\n",
      "Epoch 32/50\n",
      "13137/13146 [============================>.] - ETA: 0s - loss: 0.2425 - accuracy: 0.8986\n",
      "  train_auc :  0.9235665722624748\n",
      "  val_auc :  0.9220794625815292\n",
      "13146/13146 [==============================] - 31s 2ms/step - loss: 0.2425 - accuracy: 0.8987 - val_loss: 0.2393 - val_accuracy: 0.8993\n",
      "Epoch 33/50\n",
      "13141/13146 [============================>.] - ETA: 0s - loss: 0.2428 - accuracy: 0.8984\n",
      "  train_auc :  0.922031147406039\n",
      "  val_auc :  0.9205485266848047\n",
      "13146/13146 [==============================] - 31s 2ms/step - loss: 0.2428 - accuracy: 0.8984 - val_loss: 0.2410 - val_accuracy: 0.8996\n",
      "Epoch 34/50\n",
      "13129/13146 [============================>.] - ETA: 0s - loss: 0.2422 - accuracy: 0.8988\n",
      "  train_auc :  0.9194840961572519\n",
      "  val_auc :  0.9178611893815813\n",
      "13146/13146 [==============================] - 31s 2ms/step - loss: 0.2422 - accuracy: 0.8988 - val_loss: 0.2544 - val_accuracy: 0.8949\n",
      "Epoch 35/50\n",
      "13145/13146 [============================>.] - ETA: 0s - loss: 0.2418 - accuracy: 0.8991\n",
      "  train_auc :  0.9240813138276613\n",
      "  val_auc :  0.9226795001341048\n",
      "13146/13146 [==============================] - 31s 2ms/step - loss: 0.2418 - accuracy: 0.8991 - val_loss: 0.2377 - val_accuracy: 0.9010\n",
      "Epoch 36/50\n",
      "13120/13146 [============================>.] - ETA: 0s - loss: 0.2413 - accuracy: 0.8993\n",
      "  train_auc :  0.9227798194817894\n",
      "  val_auc :  0.9210913929187547\n",
      "13146/13146 [==============================] - 31s 2ms/step - loss: 0.2414 - accuracy: 0.8993 - val_loss: 0.2401 - val_accuracy: 0.8997\n",
      "Epoch 37/50\n",
      "13130/13146 [============================>.] - ETA: 0s - loss: 0.2413 - accuracy: 0.8990\n",
      "  train_auc :  0.9238232134751365\n",
      "  val_auc :  0.9221384317058116\n",
      "13146/13146 [==============================] - 31s 2ms/step - loss: 0.2414 - accuracy: 0.8990 - val_loss: 0.2423 - val_accuracy: 0.9006\n",
      "Epoch 38/50\n",
      "13119/13146 [============================>.] - ETA: 0s - loss: 0.2412 - accuracy: 0.8990\n",
      "  train_auc :  0.9220752799276759\n",
      "  val_auc :  0.9207019585476117\n",
      "13146/13146 [==============================] - 31s 2ms/step - loss: 0.2411 - accuracy: 0.8991 - val_loss: 0.2415 - val_accuracy: 0.9001\n",
      "Epoch 39/50\n",
      "13144/13146 [============================>.] - ETA: 0s - loss: 0.2408 - accuracy: 0.8996\n",
      "  train_auc :  0.9231445136536645\n",
      "  val_auc :  0.9217192291614746\n",
      "13146/13146 [==============================] - 31s 2ms/step - loss: 0.2408 - accuracy: 0.8996 - val_loss: 0.2419 - val_accuracy: 0.8989\n",
      "Epoch 40/50\n",
      "13138/13146 [============================>.] - ETA: 0s - loss: 0.2406 - accuracy: 0.8998\n",
      "  train_auc :  0.9241106470753834\n",
      "  val_auc :  0.922290227139711\n",
      "13146/13146 [==============================] - 31s 2ms/step - loss: 0.2406 - accuracy: 0.8998 - val_loss: 0.2390 - val_accuracy: 0.9000\n",
      "Epoch 41/50\n",
      "13122/13146 [============================>.] - ETA: 0s - loss: 0.2405 - accuracy: 0.8996\n",
      "  train_auc :  0.9208311137526892\n",
      "  val_auc :  0.918967473350168\n",
      "13146/13146 [==============================] - 31s 2ms/step - loss: 0.2405 - accuracy: 0.8996 - val_loss: 0.2553 - val_accuracy: 0.8915\n",
      "Epoch 42/50\n",
      "13139/13146 [============================>.] - ETA: 0s - loss: 0.2400 - accuracy: 0.8999\n",
      "  train_auc :  0.9238899756045488\n",
      "  val_auc :  0.9224461496981323\n",
      "13146/13146 [==============================] - 31s 2ms/step - loss: 0.2400 - accuracy: 0.8999 - val_loss: 0.2414 - val_accuracy: 0.8988\n",
      "Epoch 43/50\n",
      "13130/13146 [============================>.] - ETA: 0s - loss: 0.2397 - accuracy: 0.8999\n",
      "  train_auc :  0.9229803969211756\n",
      "  val_auc :  0.921641443508237\n",
      "13146/13146 [==============================] - 31s 2ms/step - loss: 0.2397 - accuracy: 0.8999 - val_loss: 0.2427 - val_accuracy: 0.8974\n",
      "Epoch 44/50\n",
      "13120/13146 [============================>.] - ETA: 0s - loss: 0.2411 - accuracy: 0.8995\n",
      "  train_auc :  0.9233108233877878\n",
      "  val_auc :  0.9217572632577749\n",
      "13146/13146 [==============================] - 31s 2ms/step - loss: 0.2410 - accuracy: 0.8995 - val_loss: 0.2392 - val_accuracy: 0.9006\n",
      "Epoch 45/50\n",
      "13116/13146 [============================>.] - ETA: 0s - loss: 0.2398 - accuracy: 0.9003\n",
      "  train_auc :  0.9245741884665519\n",
      "  val_auc :  0.9226955293089115\n",
      "13146/13146 [==============================] - 32s 2ms/step - loss: 0.2399 - accuracy: 0.9003 - val_loss: 0.2402 - val_accuracy: 0.8992\n",
      "Epoch 46/50\n",
      "13134/13146 [============================>.] - ETA: 0s - loss: 0.2393 - accuracy: 0.9002\n",
      "  train_auc :  0.9251911364100522\n",
      "  val_auc :  0.9233281543208248\n",
      "13146/13146 [==============================] - 31s 2ms/step - loss: 0.2393 - accuracy: 0.9002 - val_loss: 0.2386 - val_accuracy: 0.9004\n",
      "Epoch 47/50\n",
      "13124/13146 [============================>.] - ETA: 0s - loss: 0.2392 - accuracy: 0.9005\n",
      "  train_auc :  0.9244163817693365\n",
      "  val_auc :  0.9229229506944479\n",
      "13146/13146 [==============================] - 31s 2ms/step - loss: 0.2392 - accuracy: 0.9005 - val_loss: 0.2375 - val_accuracy: 0.9018\n",
      "Epoch 48/50\n",
      "13126/13146 [============================>.] - ETA: 0s - loss: 0.2387 - accuracy: 0.9003\n",
      "  train_auc :  0.9250942349823925\n",
      "  val_auc :  0.9230921926717086\n",
      "13146/13146 [==============================] - 32s 2ms/step - loss: 0.2387 - accuracy: 0.9003 - val_loss: 0.2437 - val_accuracy: 0.8994\n",
      "Epoch 49/50\n",
      "13128/13146 [============================>.] - ETA: 0s - loss: 0.2386 - accuracy: 0.9005\n",
      "  train_auc :  0.9236570573030588\n",
      "  val_auc :  0.9215916340595675\n",
      "13146/13146 [==============================] - 32s 2ms/step - loss: 0.2386 - accuracy: 0.9005 - val_loss: 0.2437 - val_accuracy: 0.8977\n",
      "Epoch 50/50\n",
      "13130/13146 [============================>.] - ETA: 0s - loss: 0.2383 - accuracy: 0.9006\n",
      "  train_auc :  0.9253489540943788\n",
      "  val_auc :  0.9230275568200461\n",
      "13146/13146 [==============================] - 32s 2ms/step - loss: 0.2383 - accuracy: 0.9006 - val_loss: 0.2415 - val_accuracy: 0.8985\n"
     ]
    },
    {
     "data": {
      "text/plain": [
       "<keras.callbacks.History at 0x2483a330730>"
      ]
     },
     "execution_count": 30,
     "metadata": {},
     "output_type": "execute_result"
    }
   ],
   "source": [
    "!rm -rf ./logs_model1/ \n",
    "tf.keras.backend.clear_session()\n",
    "model1.fit(X_train_pooled_output,y_train,validation_data=(X_test_pooled_output,y_test),epochs=50,callbacks=[history_own])"
   ]
  },
  {
   "cell_type": "code",
   "execution_count": 31,
   "metadata": {
    "id": "EBuF7gwE_cb6"
   },
   "outputs": [
    {
     "data": {
      "image/png": "[encoded data removed]",
      "text/plain": [
       "<Figure size 864x720 with 1 Axes>"
      ]
     },
     "metadata": {
      "needs_background": "light"
     },
     "output_type": "display_data"
    }
   ],
   "source": [
    "plt.rcParams.update({'font.size': 18})\n",
    "plt.figure(figsize=(12,10))\n",
    "plt.plot(np.arange(len(auc)),auc,color=\"red\")\n",
    "plt.plot(np.arange(len(auc)),val_auc,color='blue')\n",
    "plt.scatter(np.arange(len(auc)),auc,color='red')\n",
    "plt.scatter(np.arange(len(auc)),val_auc,color='blue')\n",
    "plt.xticks(np.arange(0,len(auc)+1,5),rotation=-35)\n",
    "plt.xlabel('Epochs')\n",
    "plt.ylabel('AUC Score')\n",
    "plt.legend(['Train AUC','Test AUC'])\n",
    "plt.grid()\n",
    "plt.show()"
   ]
  }
 ],
 "metadata": {
  "accelerator": "GPU",
  "colab": {
   "collapsed_sections": [],
   "name": "bert.ipynb",
   "provenance": []
  },
  "kernelspec": {
   "display_name": "Python 3",
   "language": "python",
   "name": "python3"
  },
  "language_info": {
   "codemirror_mode": {
    "name": "ipython",
    "version": 3
   },
   "file_extension": ".py",
   "mimetype": "text/x-python",
   "name": "python",
   "nbconvert_exporter": "python",
   "pygments_lexer": "ipython3",
   "version": "3.8.8"
  }
 },
 "nbformat": 4,
 "nbformat_minor": 1
}
