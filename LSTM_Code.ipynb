{
  "nbformat": 4,
  "nbformat_minor": 0,
  "metadata": {
    "colab": {
      "name": "Prediction_Review_Rating_with_Pre_trained_Word_Embeding_Model_(GLOVE) (1).ipynb",
      "provenance": [],
      "collapsed_sections": []
    },
    "kernelspec": {
      "name": "python3",
      "display_name": "Python 3"
    }
  },
  "cells": [
    {
      "cell_type": "code",
      "source": [
        "###LSTM"
      ],
      "metadata": {
        "id": "tS2vytseuHdW"
      },
      "execution_count": null,
      "outputs": []
    },
    {
      "cell_type": "code",
      "source": [
        "import numpy as np\n",
        "import pandas as pd \n",
        "import matplotlib.pyplot as plt\n",
        "import seaborn as sns\n",
        "\n",
        "import warnings\n",
        "warnings.filterwarnings(\"ignore\")\n",
        "\n",
        "import re\n",
        "from bs4 import BeautifulSoup\n",
        "from tqdm import tqdm\n",
        "from nltk.stem import WordNetLemmatizer\n",
        "\n",
        "from sklearn.model_selection import train_test_split\n",
        "from sklearn.metrics import accuracy_score,f1_score, confusion_matrix\n",
        "\n",
        "from keras.preprocessing.text import Tokenizer\n",
        "from keras.preprocessing.sequence import pad_sequences\n",
        "from keras.layers import Dense , Input , LSTM , Embedding, Dropout , Activation, GRU, Flatten\n",
        "from keras.layers import Bidirectional, GlobalMaxPool1D\n",
        "from keras.models import Model, Sequential\n",
        "from keras.layers import Convolution1D\n",
        "from keras import initializers, regularizers, constraints, optimizers, layers\n",
        "from keras.regularizers import l2"
      ],
      "metadata": {
        "id": "gYOdPStiLv_2"
      },
      "execution_count": null,
      "outputs": []
    },
    {
      "cell_type": "code",
      "metadata": {
        "id": "ba6ph4mLxGo-",
        "colab": {
          "base_uri": "https://localhost:8080/"
        },
        "outputId": "395009c4-88f7-4d94-87d3-c6e4bbccb8d8"
      },
      "source": [
        "from google.colab import drive\n",
        "drive.mount('/content/drive')"
      ],
      "execution_count": null,
      "outputs": [
        {
          "output_type": "stream",
          "name": "stdout",
          "text": [
            "Drive already mounted at /content/drive; to attempt to forcibly remount, call drive.mount(\"/content/drive\", force_remount=True).\n"
          ]
        }
      ]
    },
    {
      "cell_type": "code",
      "source": [
        "!unzip -q \"/content/drive/MyDrive/Google Collaborate/Reviews.csv.zip\" -d /content/"
      ],
      "metadata": {
        "id": "e302uoCUjdAo",
        "colab": {
          "base_uri": "https://localhost:8080/"
        },
        "outputId": "5a0fcdf8-e5c6-42f6-e44f-5fc4783e9963"
      },
      "execution_count": null,
      "outputs": [
        {
          "output_type": "stream",
          "name": "stdout",
          "text": [
            "replace /content/Reviews.csv? [y]es, [n]o, [A]ll, [N]one, [r]ename: y\n",
            "y\n"
          ]
        }
      ]
    },
    {
      "cell_type": "code",
      "metadata": {
        "id": "BELg55x-yj85"
      },
      "source": [
        "import pandas as pd\n",
        "import numpy as np\n",
        "import matplotlib.pyplot as plt\n",
        "import keras\n",
        "\n",
        "df=pd.read_csv(\"/content/Reviews.csv\", encoding='latin-1', index_col=0)\n",
        "#df=df.loc[:,[\"Text\",\"Score\"]].dropna().reset_index(drop=True)"
      ],
      "execution_count": null,
      "outputs": []
    },
    {
      "cell_type": "markdown",
      "metadata": {
        "id": "OtEu_J8_kEc_"
      },
      "source": [
        "After cleaning the data, you should have 22641 reviews available."
      ]
    },
    {
      "cell_type": "code",
      "metadata": {
        "id": "MyQjL3d3kB8s",
        "colab": {
          "base_uri": "https://localhost:8080/"
        },
        "outputId": "ac5ee65e-dcc9-408e-f710-c320c296604e"
      },
      "source": [
        "len(df)"
      ],
      "execution_count": null,
      "outputs": [
        {
          "output_type": "execute_result",
          "data": {
            "text/plain": [
              "568454"
            ]
          },
          "metadata": {},
          "execution_count": 79
        }
      ]
    },
    {
      "cell_type": "markdown",
      "metadata": {
        "id": "_wmSXJIf5Sj3"
      },
      "source": [
        "**QUESTION:** Let's look at the distribution of the rating, what do you find out? What should you do when splitting training and testing datasets in order to to mitigate potential issues?"
      ]
    },
    {
      "cell_type": "code",
      "metadata": {
        "id": "w_8maJdM8iYL",
        "colab": {
          "base_uri": "https://localhost:8080/"
        },
        "outputId": "7ecc0300-8049-4725-cc45-7b560c28a8e4"
      },
      "source": [
        "df[\"Score\"].value_counts()"
      ],
      "execution_count": null,
      "outputs": [
        {
          "output_type": "execute_result",
          "data": {
            "text/plain": [
              "5    363122\n",
              "4     80655\n",
              "1     52268\n",
              "3     42640\n",
              "2     29769\n",
              "Name: Score, dtype: int64"
            ]
          },
          "metadata": {},
          "execution_count": 80
        }
      ]
    },
    {
      "cell_type": "code",
      "source": [
        "df.loc[df['Score'] <=2, 'Score'] = -1\n",
        "df.loc[df['Score'] == 3, 'Score'] = 0\n",
        "df.loc[df['Score'] > 3, 'Score'] = 1"
      ],
      "metadata": {
        "id": "-Mt-wltlIJ2o"
      },
      "execution_count": null,
      "outputs": []
    },
    {
      "cell_type": "code",
      "source": [
        "#df.drop(df[df['Score']==3].index,inplace=True)"
      ],
      "metadata": {
        "id": "LqeK9LweIgXr"
      },
      "execution_count": null,
      "outputs": []
    },
    {
      "cell_type": "code",
      "source": [
        "#df['len'] = df.Text.apply(lambda x: len(x.split()))"
      ],
      "metadata": {
        "id": "K3CnTAeMImMF"
      },
      "execution_count": null,
      "outputs": []
    },
    {
      "cell_type": "code",
      "source": [
        "df['sentiment']=['pos' if (x>3) else 'neg' for x in df['Score']]"
      ],
      "metadata": {
        "id": "OgcNtWDTFl7_"
      },
      "execution_count": null,
      "outputs": []
    },
    {
      "cell_type": "code",
      "source": [
        "df.shape"
      ],
      "metadata": {
        "colab": {
          "base_uri": "https://localhost:8080/"
        },
        "id": "uhlvN8UF4R_V",
        "outputId": "efbce643-cced-4e72-db97-2c6f05e727cb"
      },
      "execution_count": null,
      "outputs": [
        {
          "output_type": "execute_result",
          "data": {
            "text/plain": [
              "(525814, 10)"
            ]
          },
          "metadata": {},
          "execution_count": 50
        }
      ]
    },
    {
      "cell_type": "code",
      "source": [
        "sorted_data=df.sort_values('ProductId', kind='quicksort', na_position='last')"
      ],
      "metadata": {
        "id": "vLpAdsniLoAx"
      },
      "execution_count": null,
      "outputs": []
    },
    {
      "cell_type": "code",
      "source": [
        "final_df=sorted_data.drop_duplicates(subset={\"UserId\",\"ProfileName\",\"Time\",\"Text\"}, keep='first', inplace=False)\n",
        "final_df.shape"
      ],
      "metadata": {
        "colab": {
          "base_uri": "https://localhost:8080/"
        },
        "id": "irFtw2W3MDNv",
        "outputId": "e6f6a3ba-d614-4c7b-ebeb-6cad3055f202"
      },
      "execution_count": null,
      "outputs": [
        {
          "output_type": "execute_result",
          "data": {
            "text/plain": [
              "(393933, 9)"
            ]
          },
          "metadata": {},
          "execution_count": 84
        }
      ]
    },
    {
      "cell_type": "code",
      "source": [
        "final_df"
      ],
      "metadata": {
        "colab": {
          "base_uri": "https://localhost:8080/",
          "height": 672
        },
        "id": "njYKDIHJI4he",
        "outputId": "20145f03-ebd8-4676-ee69-04f9f246d36d"
      },
      "execution_count": null,
      "outputs": [
        {
          "output_type": "execute_result",
          "data": {
            "text/plain": [
              "         ProductId          UserId  \\\n",
              "Id                                   \n",
              "150529  0006641040   A25ACLV5KPB4W   \n",
              "150507  0006641040  A1S4A3IQ2MU7V4   \n",
              "150506  0006641040  A2IW4PEEKO2R0U   \n",
              "150505  0006641040  A2PTSM496CF40Z   \n",
              "150504  0006641040   AQEYF1AXARWJZ   \n",
              "...            ...             ...   \n",
              "193172  B009RSR8HO  A3JJTHP8T7A8LY   \n",
              "188389  B009SF0TN6  A1L0GWGRK4BYPT   \n",
              "221795  B009SR4OQ2  A32A6X5KCP7ARG   \n",
              "5703    B009WSNWC4   AMP7K1O84DH1T   \n",
              "327601  B009WVB40S  A3ME78KVX31T21   \n",
              "\n",
              "                                             ProfileName  \\\n",
              "Id                                                         \n",
              "150529                               Matt Hetling \"Matt\"   \n",
              "150507                             sally sue \"sally sue\"   \n",
              "150506                                             Tracy   \n",
              "150505  Jason A. Teeple \"Nobody made a greater mistak...   \n",
              "150504                         Les Sinclair \"book maven\"   \n",
              "...                                                  ...   \n",
              "193172                            Joanne Eklund \"Joanne\"   \n",
              "188389                                     Bety Robinson   \n",
              "221795                                           sicamar   \n",
              "5703                                                ESTY   \n",
              "327601                                              K'la   \n",
              "\n",
              "        HelpfulnessNumerator  HelpfulnessDenominator  Score        Time  \\\n",
              "Id                                                                        \n",
              "150529                     0                       1      1  1108425600   \n",
              "150507                     1                       1      1  1191456000   \n",
              "150506                     1                       1      1  1194739200   \n",
              "150505                     1                       1      1  1210809600   \n",
              "150504                     1                       1      1  1212278400   \n",
              "...                      ...                     ...    ...         ...   \n",
              "193172                     0                       0      1  1350432000   \n",
              "188389                     0                       0      1  1350518400   \n",
              "221795                     1                       1      1  1350604800   \n",
              "5703                       0                       0      1  1351209600   \n",
              "327601                     0                       0      1  1351123200   \n",
              "\n",
              "                                           Summary  \\\n",
              "Id                                                   \n",
              "150529                 Nice cadence, catchy rhymes   \n",
              "150507               chicken soup with rice months   \n",
              "150506  Love the book, miss the hard cover version   \n",
              "150505                                   A classic   \n",
              "150504                      Chicken Soup with Rice   \n",
              "...                                            ...   \n",
              "193172                                        Zero   \n",
              "188389       Amazing!! Great sauce for everything!   \n",
              "221795                               Awesome Taste   \n",
              "5703                                     DELICIOUS   \n",
              "327601                                      Tasty!   \n",
              "\n",
              "                                                     Text  \n",
              "Id                                                         \n",
              "150529  In June<br />I saw a charming group<br />of ro...  \n",
              "150507  This is a fun way for children to learn their ...  \n",
              "150506  I grew up reading these Sendak books, and watc...  \n",
              "150505  Get the movie or sound track and sing along wi...  \n",
              "150504  A very entertaining rhyming story--cleaver and...  \n",
              "...                                                   ...  \n",
              "193172  FTS Zero is the best sweetener I have ever tri...  \n",
              "188389  You have to try this sauce to believe it! It s...  \n",
              "221795  I bought this Hazelnut Paste (Nocciola Spread)...  \n",
              "5703    Purchased this product at a local store in NY ...  \n",
              "327601  I purchased this to send to my son who's away ...  \n",
              "\n",
              "[393933 rows x 9 columns]"
            ],
            "text/html": [
              "\n",
              "  <div id=\"df-89595c95-65d3-4dd4-b966-fc948f29e63d\">\n",
              "    <div class=\"colab-df-container\">\n",
              "      <div>\n",
              "<style scoped>\n",
              "    .dataframe tbody tr th:only-of-type {\n",
              "        vertical-align: middle;\n",
              "    }\n",
              "\n",
              "    .dataframe tbody tr th {\n",
              "        vertical-align: top;\n",
              "    }\n",
              "\n",
              "    .dataframe thead th {\n",
              "        text-align: right;\n",
              "    }\n",
              "</style>\n",
              "<table border=\"1\" class=\"dataframe\">\n",
              "  <thead>\n",
              "    <tr style=\"text-align: right;\">\n",
              "      <th></th>\n",
              "      <th>ProductId</th>\n",
              "      <th>UserId</th>\n",
              "      <th>ProfileName</th>\n",
              "      <th>HelpfulnessNumerator</th>\n",
              "      <th>HelpfulnessDenominator</th>\n",
              "      <th>Score</th>\n",
              "      <th>Time</th>\n",
              "      <th>Summary</th>\n",
              "      <th>Text</th>\n",
              "    </tr>\n",
              "    <tr>\n",
              "      <th>Id</th>\n",
              "      <th></th>\n",
              "      <th></th>\n",
              "      <th></th>\n",
              "      <th></th>\n",
              "      <th></th>\n",
              "      <th></th>\n",
              "      <th></th>\n",
              "      <th></th>\n",
              "      <th></th>\n",
              "    </tr>\n",
              "  </thead>\n",
              "  <tbody>\n",
              "    <tr>\n",
              "      <th>150529</th>\n",
              "      <td>0006641040</td>\n",
              "      <td>A25ACLV5KPB4W</td>\n",
              "      <td>Matt Hetling \"Matt\"</td>\n",
              "      <td>0</td>\n",
              "      <td>1</td>\n",
              "      <td>1</td>\n",
              "      <td>1108425600</td>\n",
              "      <td>Nice cadence, catchy rhymes</td>\n",
              "      <td>In June&lt;br /&gt;I saw a charming group&lt;br /&gt;of ro...</td>\n",
              "    </tr>\n",
              "    <tr>\n",
              "      <th>150507</th>\n",
              "      <td>0006641040</td>\n",
              "      <td>A1S4A3IQ2MU7V4</td>\n",
              "      <td>sally sue \"sally sue\"</td>\n",
              "      <td>1</td>\n",
              "      <td>1</td>\n",
              "      <td>1</td>\n",
              "      <td>1191456000</td>\n",
              "      <td>chicken soup with rice months</td>\n",
              "      <td>This is a fun way for children to learn their ...</td>\n",
              "    </tr>\n",
              "    <tr>\n",
              "      <th>150506</th>\n",
              "      <td>0006641040</td>\n",
              "      <td>A2IW4PEEKO2R0U</td>\n",
              "      <td>Tracy</td>\n",
              "      <td>1</td>\n",
              "      <td>1</td>\n",
              "      <td>1</td>\n",
              "      <td>1194739200</td>\n",
              "      <td>Love the book, miss the hard cover version</td>\n",
              "      <td>I grew up reading these Sendak books, and watc...</td>\n",
              "    </tr>\n",
              "    <tr>\n",
              "      <th>150505</th>\n",
              "      <td>0006641040</td>\n",
              "      <td>A2PTSM496CF40Z</td>\n",
              "      <td>Jason A. Teeple \"Nobody made a greater mistak...</td>\n",
              "      <td>1</td>\n",
              "      <td>1</td>\n",
              "      <td>1</td>\n",
              "      <td>1210809600</td>\n",
              "      <td>A classic</td>\n",
              "      <td>Get the movie or sound track and sing along wi...</td>\n",
              "    </tr>\n",
              "    <tr>\n",
              "      <th>150504</th>\n",
              "      <td>0006641040</td>\n",
              "      <td>AQEYF1AXARWJZ</td>\n",
              "      <td>Les Sinclair \"book maven\"</td>\n",
              "      <td>1</td>\n",
              "      <td>1</td>\n",
              "      <td>1</td>\n",
              "      <td>1212278400</td>\n",
              "      <td>Chicken Soup with Rice</td>\n",
              "      <td>A very entertaining rhyming story--cleaver and...</td>\n",
              "    </tr>\n",
              "    <tr>\n",
              "      <th>...</th>\n",
              "      <td>...</td>\n",
              "      <td>...</td>\n",
              "      <td>...</td>\n",
              "      <td>...</td>\n",
              "      <td>...</td>\n",
              "      <td>...</td>\n",
              "      <td>...</td>\n",
              "      <td>...</td>\n",
              "      <td>...</td>\n",
              "    </tr>\n",
              "    <tr>\n",
              "      <th>193172</th>\n",
              "      <td>B009RSR8HO</td>\n",
              "      <td>A3JJTHP8T7A8LY</td>\n",
              "      <td>Joanne Eklund \"Joanne\"</td>\n",
              "      <td>0</td>\n",
              "      <td>0</td>\n",
              "      <td>1</td>\n",
              "      <td>1350432000</td>\n",
              "      <td>Zero</td>\n",
              "      <td>FTS Zero is the best sweetener I have ever tri...</td>\n",
              "    </tr>\n",
              "    <tr>\n",
              "      <th>188389</th>\n",
              "      <td>B009SF0TN6</td>\n",
              "      <td>A1L0GWGRK4BYPT</td>\n",
              "      <td>Bety Robinson</td>\n",
              "      <td>0</td>\n",
              "      <td>0</td>\n",
              "      <td>1</td>\n",
              "      <td>1350518400</td>\n",
              "      <td>Amazing!! Great sauce for everything!</td>\n",
              "      <td>You have to try this sauce to believe it! It s...</td>\n",
              "    </tr>\n",
              "    <tr>\n",
              "      <th>221795</th>\n",
              "      <td>B009SR4OQ2</td>\n",
              "      <td>A32A6X5KCP7ARG</td>\n",
              "      <td>sicamar</td>\n",
              "      <td>1</td>\n",
              "      <td>1</td>\n",
              "      <td>1</td>\n",
              "      <td>1350604800</td>\n",
              "      <td>Awesome Taste</td>\n",
              "      <td>I bought this Hazelnut Paste (Nocciola Spread)...</td>\n",
              "    </tr>\n",
              "    <tr>\n",
              "      <th>5703</th>\n",
              "      <td>B009WSNWC4</td>\n",
              "      <td>AMP7K1O84DH1T</td>\n",
              "      <td>ESTY</td>\n",
              "      <td>0</td>\n",
              "      <td>0</td>\n",
              "      <td>1</td>\n",
              "      <td>1351209600</td>\n",
              "      <td>DELICIOUS</td>\n",
              "      <td>Purchased this product at a local store in NY ...</td>\n",
              "    </tr>\n",
              "    <tr>\n",
              "      <th>327601</th>\n",
              "      <td>B009WVB40S</td>\n",
              "      <td>A3ME78KVX31T21</td>\n",
              "      <td>K'la</td>\n",
              "      <td>0</td>\n",
              "      <td>0</td>\n",
              "      <td>1</td>\n",
              "      <td>1351123200</td>\n",
              "      <td>Tasty!</td>\n",
              "      <td>I purchased this to send to my son who's away ...</td>\n",
              "    </tr>\n",
              "  </tbody>\n",
              "</table>\n",
              "<p>393933 rows × 9 columns</p>\n",
              "</div>\n",
              "      <button class=\"colab-df-convert\" onclick=\"convertToInteractive('df-89595c95-65d3-4dd4-b966-fc948f29e63d')\"\n",
              "              title=\"Convert this dataframe to an interactive table.\"\n",
              "              style=\"display:none;\">\n",
              "        \n",
              "  <svg xmlns=\"http://www.w3.org/2000/svg\" height=\"24px\"viewBox=\"0 0 24 24\"\n",
              "       width=\"24px\">\n",
              "    <path d=\"M0 0h24v24H0V0z\" fill=\"none\"/>\n",
              "    <path d=\"M18.56 5.44l.94 2.06.94-2.06 2.06-.94-2.06-.94-.94-2.06-.94 2.06-2.06.94zm-11 1L8.5 8.5l.94-2.06 2.06-.94-2.06-.94L8.5 2.5l-.94 2.06-2.06.94zm10 10l.94 2.06.94-2.06 2.06-.94-2.06-.94-.94-2.06-.94 2.06-2.06.94z\"/><path d=\"M17.41 7.96l-1.37-1.37c-.4-.4-.92-.59-1.43-.59-.52 0-1.04.2-1.43.59L10.3 9.45l-7.72 7.72c-.78.78-.78 2.05 0 2.83L4 21.41c.39.39.9.59 1.41.59.51 0 1.02-.2 1.41-.59l7.78-7.78 2.81-2.81c.8-.78.8-2.07 0-2.86zM5.41 20L4 18.59l7.72-7.72 1.47 1.35L5.41 20z\"/>\n",
              "  </svg>\n",
              "      </button>\n",
              "      \n",
              "  <style>\n",
              "    .colab-df-container {\n",
              "      display:flex;\n",
              "      flex-wrap:wrap;\n",
              "      gap: 12px;\n",
              "    }\n",
              "\n",
              "    .colab-df-convert {\n",
              "      background-color: #E8F0FE;\n",
              "      border: none;\n",
              "      border-radius: 50%;\n",
              "      cursor: pointer;\n",
              "      display: none;\n",
              "      fill: #1967D2;\n",
              "      height: 32px;\n",
              "      padding: 0 0 0 0;\n",
              "      width: 32px;\n",
              "    }\n",
              "\n",
              "    .colab-df-convert:hover {\n",
              "      background-color: #E2EBFA;\n",
              "      box-shadow: 0px 1px 2px rgba(60, 64, 67, 0.3), 0px 1px 3px 1px rgba(60, 64, 67, 0.15);\n",
              "      fill: #174EA6;\n",
              "    }\n",
              "\n",
              "    [theme=dark] .colab-df-convert {\n",
              "      background-color: #3B4455;\n",
              "      fill: #D2E3FC;\n",
              "    }\n",
              "\n",
              "    [theme=dark] .colab-df-convert:hover {\n",
              "      background-color: #434B5C;\n",
              "      box-shadow: 0px 1px 3px 1px rgba(0, 0, 0, 0.15);\n",
              "      filter: drop-shadow(0px 1px 2px rgba(0, 0, 0, 0.3));\n",
              "      fill: #FFFFFF;\n",
              "    }\n",
              "  </style>\n",
              "\n",
              "      <script>\n",
              "        const buttonEl =\n",
              "          document.querySelector('#df-89595c95-65d3-4dd4-b966-fc948f29e63d button.colab-df-convert');\n",
              "        buttonEl.style.display =\n",
              "          google.colab.kernel.accessAllowed ? 'block' : 'none';\n",
              "\n",
              "        async function convertToInteractive(key) {\n",
              "          const element = document.querySelector('#df-89595c95-65d3-4dd4-b966-fc948f29e63d');\n",
              "          const dataTable =\n",
              "            await google.colab.kernel.invokeFunction('convertToInteractive',\n",
              "                                                     [key], {});\n",
              "          if (!dataTable) return;\n",
              "\n",
              "          const docLinkHtml = 'Like what you see? Visit the ' +\n",
              "            '<a target=\"_blank\" href=https://colab.research.google.com/notebooks/data_table.ipynb>data table notebook</a>'\n",
              "            + ' to learn more about interactive tables.';\n",
              "          element.innerHTML = '';\n",
              "          dataTable['output_type'] = 'display_data';\n",
              "          await google.colab.output.renderOutput(dataTable, element);\n",
              "          const docLink = document.createElement('div');\n",
              "          docLink.innerHTML = docLinkHtml;\n",
              "          element.appendChild(docLink);\n",
              "        }\n",
              "      </script>\n",
              "    </div>\n",
              "  </div>\n",
              "  "
            ]
          },
          "metadata": {},
          "execution_count": 85
        }
      ]
    },
    {
      "cell_type": "code",
      "source": [
        "#final_df['sentiment']=['pos' if (x>3) else 'neg' for x in final_df['Score']]"
      ],
      "metadata": {
        "id": "KGA2EtvhMWVm"
      },
      "execution_count": null,
      "outputs": []
    },
    {
      "cell_type": "code",
      "source": [
        "final_df['Score'].value_counts()"
      ],
      "metadata": {
        "colab": {
          "base_uri": "https://localhost:8080/"
        },
        "id": "eDMVzx8oMhAv",
        "outputId": "03726185-54df-436f-dbc3-bb55c2371c5f"
      },
      "execution_count": null,
      "outputs": [
        {
          "output_type": "execute_result",
          "data": {
            "text/plain": [
              " 1    307054\n",
              "-1     57107\n",
              " 0     29772\n",
              "Name: Score, dtype: int64"
            ]
          },
          "metadata": {},
          "execution_count": 86
        }
      ]
    },
    {
      "cell_type": "code",
      "source": [
        "plt.figure(figsize = (10,7))\n",
        "sns.countplot(final_df['Score'])\n",
        "plt.title(\"Bar plot of sentiments\")"
      ],
      "metadata": {
        "colab": {
          "base_uri": "https://localhost:8080/",
          "height": 476
        },
        "id": "xl5JZ6ReMxqN",
        "outputId": "56e371e4-6d86-42f1-8e2c-3e593faa2274"
      },
      "execution_count": null,
      "outputs": [
        {
          "output_type": "execute_result",
          "data": {
            "text/plain": [
              "Text(0.5, 1.0, 'Bar plot of sentiments')"
            ]
          },
          "metadata": {},
          "execution_count": 88
        },
        {
          "output_type": "display_data",
          "data": {
            "text/plain": [
              "<Figure size 720x504 with 1 Axes>"
            ],
            "image/png": "[encoded data removed]"
          },
          "metadata": {
            "needs_background": "light"
          }
        }
      ]
    },
    {
      "cell_type": "code",
      "source": [
        "def decontract(text):\n",
        "    text = re.sub(r\"won\\'t\", \"will not\", text)\n",
        "    text = re.sub(r\"can\\'t\", \"can not\", text)\n",
        "    text = re.sub(r\"n\\'t\", \" not\", text)\n",
        "    text = re.sub(r\"\\'re\", \" are\", text)\n",
        "    text = re.sub(r\"\\'s\", \" is\", text)\n",
        "    text = re.sub(r\"\\'d\", \" would\", text)\n",
        "    text = re.sub(r\"\\'ll\", \" will\", text)\n",
        "    text = re.sub(r\"\\'t\", \" not\", text)\n",
        "    text = re.sub(r\"\\'ve\", \" have\", text)\n",
        "    text = re.sub(r\"\\'m\", \" am\", text)\n",
        "    return text"
      ],
      "metadata": {
        "id": "6Rqdqv8cM2u-"
      },
      "execution_count": null,
      "outputs": []
    },
    {
      "cell_type": "code",
      "source": [
        "#set of custom stop words\n",
        "stop_words= set(['br', 'the', 'i', 'me', 'my', 'myself', 'we', 'our', 'ours', 'ourselves', 'you', \"you're\", \"you've\",\\\n",
        "            \"you'll\", \"you'd\", 'your', 'yours', 'yourself', 'yourselves', 'he', 'him', 'his', 'himself', \\\n",
        "            'she', \"she's\", 'her', 'hers', 'herself', 'it', \"it's\", 'its', 'itself', 'they', 'them', 'their',\\\n",
        "            'theirs', 'themselves', 'what', 'which', 'who', 'whom', 'this', 'that', \"that'll\", 'these', 'those', \\\n",
        "            'am', 'is', 'are', 'was', 'were', 'be', 'been', 'being', 'have', 'has', 'had', 'having', 'do', 'does', \\\n",
        "            'did', 'doing', 'a', 'an', 'the', 'and', 'but', 'if', 'or', 'because', 'as', 'until', 'while', 'of', \\\n",
        "            'at', 'by', 'for', 'with', 'about', 'against', 'between', 'into', 'through', 'during', 'before', 'after',\\\n",
        "            'above', 'below', 'to', 'from', 'up', 'down', 'in', 'out', 'on', 'off', 'over', 'under', 'again', 'further',\\\n",
        "            'then', 'once', 'here', 'there', 'when', 'where', 'why', 'how', 'all', 'any', 'both', 'each', 'few', 'more',\\\n",
        "            'most', 'other', 'some', 'such', 'only', 'own', 'same', 'so', 'than', 'too', 'very', \\\n",
        "            's', 't', 'can', 'will', 'just', 'don', \"don't\", 'should', \"should've\", 'now', 'd', 'll', 'm', 'o', 're', \\\n",
        "            've', 'y', 'ain', 'aren', \"aren't\", 'couldn', \"couldn't\", 'didn', \"didn't\", 'doesn', \"doesn't\", 'hadn',\\\n",
        "            \"hadn't\", 'hasn', \"hasn't\", 'haven', \"haven't\", 'isn', \"isn't\", 'ma', 'mightn', \"mightn't\", 'mustn',\\\n",
        "            \"mustn't\", 'needn', \"needn't\", 'shan', \"shan't\", 'shouldn', \"shouldn't\", 'wasn', \"wasn't\", 'weren', \"weren't\", \\\n",
        "            'won', \"won't\", 'wouldn', \"wouldn't\"])"
      ],
      "metadata": {
        "id": "Cy9iQ2kNNFmB"
      },
      "execution_count": null,
      "outputs": []
    },
    {
      "cell_type": "code",
      "source": [
        "import nltk\n",
        "nltk.download('wordnet')"
      ],
      "metadata": {
        "colab": {
          "base_uri": "https://localhost:8080/"
        },
        "id": "Fb0GpIz5Nfl7",
        "outputId": "1f9e5fbb-bfca-45d9-df78-1e3114fda887"
      },
      "execution_count": null,
      "outputs": [
        {
          "output_type": "stream",
          "name": "stdout",
          "text": [
            "[nltk_data] Downloading package wordnet to /root/nltk_data...\n",
            "[nltk_data]   Package wordnet is already up-to-date!\n"
          ]
        },
        {
          "output_type": "execute_result",
          "data": {
            "text/plain": [
              "True"
            ]
          },
          "metadata": {},
          "execution_count": 121
        }
      ]
    },
    {
      "cell_type": "code",
      "source": [
        "lemmatizer = WordNetLemmatizer()"
      ],
      "metadata": {
        "id": "zSQXs76LNLeF"
      },
      "execution_count": null,
      "outputs": []
    },
    {
      "cell_type": "code",
      "source": [
        "def preprocess_text(review):\n",
        "    review = re.sub(r\"http\\S+\", \"\", review)             # removing website links\n",
        "    review = BeautifulSoup(review, 'lxml').get_text()   # removing html tags\n",
        "    review = decontract(review)                         # decontracting\n",
        "    review = re.sub(\"\\S*\\d\\S*\", \"\", review).strip()     # removing the words with numeric digits\n",
        "    review = re.sub('[^A-Za-z]+', ' ', review)          # removing non-word characters\n",
        "    review = review.lower()                             # converting to lower case\n",
        "    review = [word for word in review.split(\" \") if not word in stop_words] # removing stop words\n",
        "    review = [lemmatizer.lemmatize(token, \"v\") for token in review] #Lemmatization\n",
        "    review = \" \".join(review)\n",
        "    review.strip()\n",
        "    return review\n",
        "final_df['Text'] = final_df['Text'].apply(lambda x: preprocess_text(x))"
      ],
      "metadata": {
        "id": "w_i-EePPNOZ-"
      },
      "execution_count": null,
      "outputs": []
    },
    {
      "cell_type": "code",
      "source": [
        "final_df"
      ],
      "metadata": {
        "colab": {
          "base_uri": "https://localhost:8080/",
          "height": 672
        },
        "id": "so0_ncxVOd6k",
        "outputId": "df06b01f-475d-4948-f00e-1f2d86ae5bbf"
      },
      "execution_count": null,
      "outputs": [
        {
          "output_type": "execute_result",
          "data": {
            "text/plain": [
              "         ProductId          UserId  \\\n",
              "Id                                   \n",
              "150529  0006641040   A25ACLV5KPB4W   \n",
              "150507  0006641040  A1S4A3IQ2MU7V4   \n",
              "150506  0006641040  A2IW4PEEKO2R0U   \n",
              "150505  0006641040  A2PTSM496CF40Z   \n",
              "150504  0006641040   AQEYF1AXARWJZ   \n",
              "...            ...             ...   \n",
              "193172  B009RSR8HO  A3JJTHP8T7A8LY   \n",
              "188389  B009SF0TN6  A1L0GWGRK4BYPT   \n",
              "221795  B009SR4OQ2  A32A6X5KCP7ARG   \n",
              "5703    B009WSNWC4   AMP7K1O84DH1T   \n",
              "327601  B009WVB40S  A3ME78KVX31T21   \n",
              "\n",
              "                                             ProfileName  \\\n",
              "Id                                                         \n",
              "150529                               Matt Hetling \"Matt\"   \n",
              "150507                             sally sue \"sally sue\"   \n",
              "150506                                             Tracy   \n",
              "150505  Jason A. Teeple \"Nobody made a greater mistak...   \n",
              "150504                         Les Sinclair \"book maven\"   \n",
              "...                                                  ...   \n",
              "193172                            Joanne Eklund \"Joanne\"   \n",
              "188389                                     Bety Robinson   \n",
              "221795                                           sicamar   \n",
              "5703                                                ESTY   \n",
              "327601                                              K'la   \n",
              "\n",
              "        HelpfulnessNumerator  HelpfulnessDenominator  Score        Time  \\\n",
              "Id                                                                        \n",
              "150529                     0                       1      1  1108425600   \n",
              "150507                     1                       1      1  1191456000   \n",
              "150506                     1                       1      1  1194739200   \n",
              "150505                     1                       1      1  1210809600   \n",
              "150504                     1                       1      1  1212278400   \n",
              "...                      ...                     ...    ...         ...   \n",
              "193172                     0                       0      1  1350432000   \n",
              "188389                     0                       0      1  1350518400   \n",
              "221795                     1                       1      1  1350604800   \n",
              "5703                       0                       0      1  1351209600   \n",
              "327601                     0                       0      1  1351123200   \n",
              "\n",
              "                                           Summary  \\\n",
              "Id                                                   \n",
              "150529                 Nice cadence, catchy rhymes   \n",
              "150507               chicken soup with rice months   \n",
              "150506  Love the book, miss the hard cover version   \n",
              "150505                                   A classic   \n",
              "150504                      Chicken Soup with Rice   \n",
              "...                                            ...   \n",
              "193172                                        Zero   \n",
              "188389       Amazing!! Great sauce for everything!   \n",
              "221795                               Awesome Taste   \n",
              "5703                                     DELICIOUS   \n",
              "327601                                      Tasty!   \n",
              "\n",
              "                                                     Text  \n",
              "Id                                                         \n",
              "150529  junei saw charm groupof roses beginto droopi p...  \n",
              "150507  fun way children learn months year learn poems...  \n",
              "150506  grow read sendak book watch really rosie movie...  \n",
              "150505  get movie sound track sing along carol king gr...  \n",
              "150504  entertain rhyme story cleaver catchy illustrat...  \n",
              "...                                                   ...  \n",
              "193172  fts zero best sweetener ever try no aftertaste...  \n",
              "188389  try sauce believe start little sweet honey tas...  \n",
              "221795  buy hazelnut paste nocciola spread local shop ...  \n",
              "5703    purchase product local store ny kid love quick...  \n",
              "327601  purchase send son away college deliver right d...  \n",
              "\n",
              "[393933 rows x 9 columns]"
            ],
            "text/html": [
              "\n",
              "  <div id=\"df-a5e678f6-b8d9-4c2c-a303-0ad160660aaf\">\n",
              "    <div class=\"colab-df-container\">\n",
              "      <div>\n",
              "<style scoped>\n",
              "    .dataframe tbody tr th:only-of-type {\n",
              "        vertical-align: middle;\n",
              "    }\n",
              "\n",
              "    .dataframe tbody tr th {\n",
              "        vertical-align: top;\n",
              "    }\n",
              "\n",
              "    .dataframe thead th {\n",
              "        text-align: right;\n",
              "    }\n",
              "</style>\n",
              "<table border=\"1\" class=\"dataframe\">\n",
              "  <thead>\n",
              "    <tr style=\"text-align: right;\">\n",
              "      <th></th>\n",
              "      <th>ProductId</th>\n",
              "      <th>UserId</th>\n",
              "      <th>ProfileName</th>\n",
              "      <th>HelpfulnessNumerator</th>\n",
              "      <th>HelpfulnessDenominator</th>\n",
              "      <th>Score</th>\n",
              "      <th>Time</th>\n",
              "      <th>Summary</th>\n",
              "      <th>Text</th>\n",
              "    </tr>\n",
              "    <tr>\n",
              "      <th>Id</th>\n",
              "      <th></th>\n",
              "      <th></th>\n",
              "      <th></th>\n",
              "      <th></th>\n",
              "      <th></th>\n",
              "      <th></th>\n",
              "      <th></th>\n",
              "      <th></th>\n",
              "      <th></th>\n",
              "    </tr>\n",
              "  </thead>\n",
              "  <tbody>\n",
              "    <tr>\n",
              "      <th>150529</th>\n",
              "      <td>0006641040</td>\n",
              "      <td>A25ACLV5KPB4W</td>\n",
              "      <td>Matt Hetling \"Matt\"</td>\n",
              "      <td>0</td>\n",
              "      <td>1</td>\n",
              "      <td>1</td>\n",
              "      <td>1108425600</td>\n",
              "      <td>Nice cadence, catchy rhymes</td>\n",
              "      <td>junei saw charm groupof roses beginto droopi p...</td>\n",
              "    </tr>\n",
              "    <tr>\n",
              "      <th>150507</th>\n",
              "      <td>0006641040</td>\n",
              "      <td>A1S4A3IQ2MU7V4</td>\n",
              "      <td>sally sue \"sally sue\"</td>\n",
              "      <td>1</td>\n",
              "      <td>1</td>\n",
              "      <td>1</td>\n",
              "      <td>1191456000</td>\n",
              "      <td>chicken soup with rice months</td>\n",
              "      <td>fun way children learn months year learn poems...</td>\n",
              "    </tr>\n",
              "    <tr>\n",
              "      <th>150506</th>\n",
              "      <td>0006641040</td>\n",
              "      <td>A2IW4PEEKO2R0U</td>\n",
              "      <td>Tracy</td>\n",
              "      <td>1</td>\n",
              "      <td>1</td>\n",
              "      <td>1</td>\n",
              "      <td>1194739200</td>\n",
              "      <td>Love the book, miss the hard cover version</td>\n",
              "      <td>grow read sendak book watch really rosie movie...</td>\n",
              "    </tr>\n",
              "    <tr>\n",
              "      <th>150505</th>\n",
              "      <td>0006641040</td>\n",
              "      <td>A2PTSM496CF40Z</td>\n",
              "      <td>Jason A. Teeple \"Nobody made a greater mistak...</td>\n",
              "      <td>1</td>\n",
              "      <td>1</td>\n",
              "      <td>1</td>\n",
              "      <td>1210809600</td>\n",
              "      <td>A classic</td>\n",
              "      <td>get movie sound track sing along carol king gr...</td>\n",
              "    </tr>\n",
              "    <tr>\n",
              "      <th>150504</th>\n",
              "      <td>0006641040</td>\n",
              "      <td>AQEYF1AXARWJZ</td>\n",
              "      <td>Les Sinclair \"book maven\"</td>\n",
              "      <td>1</td>\n",
              "      <td>1</td>\n",
              "      <td>1</td>\n",
              "      <td>1212278400</td>\n",
              "      <td>Chicken Soup with Rice</td>\n",
              "      <td>entertain rhyme story cleaver catchy illustrat...</td>\n",
              "    </tr>\n",
              "    <tr>\n",
              "      <th>...</th>\n",
              "      <td>...</td>\n",
              "      <td>...</td>\n",
              "      <td>...</td>\n",
              "      <td>...</td>\n",
              "      <td>...</td>\n",
              "      <td>...</td>\n",
              "      <td>...</td>\n",
              "      <td>...</td>\n",
              "      <td>...</td>\n",
              "    </tr>\n",
              "    <tr>\n",
              "      <th>193172</th>\n",
              "      <td>B009RSR8HO</td>\n",
              "      <td>A3JJTHP8T7A8LY</td>\n",
              "      <td>Joanne Eklund \"Joanne\"</td>\n",
              "      <td>0</td>\n",
              "      <td>0</td>\n",
              "      <td>1</td>\n",
              "      <td>1350432000</td>\n",
              "      <td>Zero</td>\n",
              "      <td>fts zero best sweetener ever try no aftertaste...</td>\n",
              "    </tr>\n",
              "    <tr>\n",
              "      <th>188389</th>\n",
              "      <td>B009SF0TN6</td>\n",
              "      <td>A1L0GWGRK4BYPT</td>\n",
              "      <td>Bety Robinson</td>\n",
              "      <td>0</td>\n",
              "      <td>0</td>\n",
              "      <td>1</td>\n",
              "      <td>1350518400</td>\n",
              "      <td>Amazing!! Great sauce for everything!</td>\n",
              "      <td>try sauce believe start little sweet honey tas...</td>\n",
              "    </tr>\n",
              "    <tr>\n",
              "      <th>221795</th>\n",
              "      <td>B009SR4OQ2</td>\n",
              "      <td>A32A6X5KCP7ARG</td>\n",
              "      <td>sicamar</td>\n",
              "      <td>1</td>\n",
              "      <td>1</td>\n",
              "      <td>1</td>\n",
              "      <td>1350604800</td>\n",
              "      <td>Awesome Taste</td>\n",
              "      <td>buy hazelnut paste nocciola spread local shop ...</td>\n",
              "    </tr>\n",
              "    <tr>\n",
              "      <th>5703</th>\n",
              "      <td>B009WSNWC4</td>\n",
              "      <td>AMP7K1O84DH1T</td>\n",
              "      <td>ESTY</td>\n",
              "      <td>0</td>\n",
              "      <td>0</td>\n",
              "      <td>1</td>\n",
              "      <td>1351209600</td>\n",
              "      <td>DELICIOUS</td>\n",
              "      <td>purchase product local store ny kid love quick...</td>\n",
              "    </tr>\n",
              "    <tr>\n",
              "      <th>327601</th>\n",
              "      <td>B009WVB40S</td>\n",
              "      <td>A3ME78KVX31T21</td>\n",
              "      <td>K'la</td>\n",
              "      <td>0</td>\n",
              "      <td>0</td>\n",
              "      <td>1</td>\n",
              "      <td>1351123200</td>\n",
              "      <td>Tasty!</td>\n",
              "      <td>purchase send son away college deliver right d...</td>\n",
              "    </tr>\n",
              "  </tbody>\n",
              "</table>\n",
              "<p>393933 rows × 9 columns</p>\n",
              "</div>\n",
              "      <button class=\"colab-df-convert\" onclick=\"convertToInteractive('df-a5e678f6-b8d9-4c2c-a303-0ad160660aaf')\"\n",
              "              title=\"Convert this dataframe to an interactive table.\"\n",
              "              style=\"display:none;\">\n",
              "        \n",
              "  <svg xmlns=\"http://www.w3.org/2000/svg\" height=\"24px\"viewBox=\"0 0 24 24\"\n",
              "       width=\"24px\">\n",
              "    <path d=\"M0 0h24v24H0V0z\" fill=\"none\"/>\n",
              "    <path d=\"M18.56 5.44l.94 2.06.94-2.06 2.06-.94-2.06-.94-.94-2.06-.94 2.06-2.06.94zm-11 1L8.5 8.5l.94-2.06 2.06-.94-2.06-.94L8.5 2.5l-.94 2.06-2.06.94zm10 10l.94 2.06.94-2.06 2.06-.94-2.06-.94-.94-2.06-.94 2.06-2.06.94z\"/><path d=\"M17.41 7.96l-1.37-1.37c-.4-.4-.92-.59-1.43-.59-.52 0-1.04.2-1.43.59L10.3 9.45l-7.72 7.72c-.78.78-.78 2.05 0 2.83L4 21.41c.39.39.9.59 1.41.59.51 0 1.02-.2 1.41-.59l7.78-7.78 2.81-2.81c.8-.78.8-2.07 0-2.86zM5.41 20L4 18.59l7.72-7.72 1.47 1.35L5.41 20z\"/>\n",
              "  </svg>\n",
              "      </button>\n",
              "      \n",
              "  <style>\n",
              "    .colab-df-container {\n",
              "      display:flex;\n",
              "      flex-wrap:wrap;\n",
              "      gap: 12px;\n",
              "    }\n",
              "\n",
              "    .colab-df-convert {\n",
              "      background-color: #E8F0FE;\n",
              "      border: none;\n",
              "      border-radius: 50%;\n",
              "      cursor: pointer;\n",
              "      display: none;\n",
              "      fill: #1967D2;\n",
              "      height: 32px;\n",
              "      padding: 0 0 0 0;\n",
              "      width: 32px;\n",
              "    }\n",
              "\n",
              "    .colab-df-convert:hover {\n",
              "      background-color: #E2EBFA;\n",
              "      box-shadow: 0px 1px 2px rgba(60, 64, 67, 0.3), 0px 1px 3px 1px rgba(60, 64, 67, 0.15);\n",
              "      fill: #174EA6;\n",
              "    }\n",
              "\n",
              "    [theme=dark] .colab-df-convert {\n",
              "      background-color: #3B4455;\n",
              "      fill: #D2E3FC;\n",
              "    }\n",
              "\n",
              "    [theme=dark] .colab-df-convert:hover {\n",
              "      background-color: #434B5C;\n",
              "      box-shadow: 0px 1px 3px 1px rgba(0, 0, 0, 0.15);\n",
              "      filter: drop-shadow(0px 1px 2px rgba(0, 0, 0, 0.3));\n",
              "      fill: #FFFFFF;\n",
              "    }\n",
              "  </style>\n",
              "\n",
              "      <script>\n",
              "        const buttonEl =\n",
              "          document.querySelector('#df-a5e678f6-b8d9-4c2c-a303-0ad160660aaf button.colab-df-convert');\n",
              "        buttonEl.style.display =\n",
              "          google.colab.kernel.accessAllowed ? 'block' : 'none';\n",
              "\n",
              "        async function convertToInteractive(key) {\n",
              "          const element = document.querySelector('#df-a5e678f6-b8d9-4c2c-a303-0ad160660aaf');\n",
              "          const dataTable =\n",
              "            await google.colab.kernel.invokeFunction('convertToInteractive',\n",
              "                                                     [key], {});\n",
              "          if (!dataTable) return;\n",
              "\n",
              "          const docLinkHtml = 'Like what you see? Visit the ' +\n",
              "            '<a target=\"_blank\" href=https://colab.research.google.com/notebooks/data_table.ipynb>data table notebook</a>'\n",
              "            + ' to learn more about interactive tables.';\n",
              "          element.innerHTML = '';\n",
              "          dataTable['output_type'] = 'display_data';\n",
              "          await google.colab.output.renderOutput(dataTable, element);\n",
              "          const docLink = document.createElement('div');\n",
              "          docLink.innerHTML = docLinkHtml;\n",
              "          element.appendChild(docLink);\n",
              "        }\n",
              "      </script>\n",
              "    </div>\n",
              "  </div>\n",
              "  "
            ]
          },
          "metadata": {},
          "execution_count": 124
        }
      ]
    },
    {
      "cell_type": "code",
      "source": [
        "Y = pd.get_dummies(final_df['Score']).values"
      ],
      "metadata": {
        "id": "UCei83wK8xtV"
      },
      "execution_count": null,
      "outputs": []
    },
    {
      "cell_type": "code",
      "source": [
        "from sklearn.model_selection import train_test_split\n",
        "rev=final_df[\"Text\"]\n",
        "#Y = pd.get_dummies(final_df['sentiment']).values\n",
        "#Y = final_df[\"Score\"]\n",
        "x_train, x_test, y_train, y_test = train_test_split(rev,Y,test_size=0.2,random_state=0,stratify=Y)"
      ],
      "metadata": {
        "id": "KI_VD3qSudDM"
      },
      "execution_count": null,
      "outputs": []
    },
    {
      "cell_type": "code",
      "source": [
        "from keras.preprocessing.sequence import pad_sequences\n",
        "from keras.preprocessing.text import Tokenizer\n",
        "# Number of words to consider as features\n",
        "max_features = 10000\n",
        "\n",
        "maxlen = 20 #Maximum sequence length\n",
        "batch_size = 32 #the number of rows of input for each step\n",
        "\n",
        "#Tokenizing\n",
        "tokenizer=Tokenizer(max_features,oov_token=\"<?>\")\n",
        "tokenizer.fit_on_texts(x_train)\n",
        "X_train=tokenizer.texts_to_sequences(x_train)\n",
        "X_test=tokenizer.texts_to_sequences(x_test) #Those 4 rows transforms each text in texts to a sequence of integers. So it basically takes each word in the text and replaces it with its corresponding integer value from 1 - max_features\n",
        "\n",
        "print(len(X_train), 'train sequences')\n",
        "print(len(X_test), 'test sequences')\n",
        "\n",
        "\n",
        "print('Pad sequences (samples x text length)')\n",
        "X_train = pad_sequences(X_train, maxlen=maxlen) #make sure that the length of every array reaches maxlen by filling zeros in front of all arrays. Not all text contents have the maxlen we set in original dataset.\n",
        "X_test = pad_sequences(X_test, maxlen=maxlen)\n",
        "print('X_train shape:', X_train.shape)\n",
        "print('X_test shape:', X_test.shape)"
      ],
      "metadata": {
        "colab": {
          "base_uri": "https://localhost:8080/"
        },
        "id": "dK4fp0ymuhpP",
        "outputId": "4d7fc928-c26a-4800-c321-6183271faed9"
      },
      "execution_count": null,
      "outputs": [
        {
          "output_type": "stream",
          "name": "stdout",
          "text": [
            "315146 train sequences\n",
            "78787 test sequences\n",
            "Pad sequences (samples x text length)\n",
            "X_train shape: (315146, 20)\n",
            "X_test shape: (78787, 20)\n"
          ]
        }
      ]
    },
    {
      "cell_type": "code",
      "source": [
        "x_train"
      ],
      "metadata": {
        "colab": {
          "base_uri": "https://localhost:8080/"
        },
        "id": "JK6tmjXa3S0H",
        "outputId": "678e1705-2906-4a55-9e8e-66775117cc39"
      },
      "execution_count": null,
      "outputs": [
        {
          "output_type": "execute_result",
          "data": {
            "text/plain": [
              "Id\n",
              "435519    damage can well eight can dent box perfectly p...\n",
              "448170    like kashi bar like right blend chocolate oats...\n",
              "267968    fall regatta feed people chicken rib prepare i...\n",
              "95566     tasty light smallish side sure mean snack not ...\n",
              "324811    chocolate chip real thing organic not somethin...\n",
              "                                ...                        \n",
              "416939    great snack go unlike fruit bar bite fiber mak...\n",
              "138884    starbucks blonde coffees comparable dunkin don...\n",
              "236891    use clump clay litter two years older cat tire...\n",
              "314283    live ne pa could not find fiesta ranch dip pac...\n",
              "411461    regular joe not know much honey think might he...\n",
              "Name: Text, Length: 315146, dtype: object"
            ]
          },
          "metadata": {},
          "execution_count": 128
        }
      ]
    },
    {
      "cell_type": "code",
      "source": [
        "from keras.layers import Dense,Conv1D,MaxPooling1D\n",
        "model = Sequential()\n",
        "#model.add(layers.Embedding(max_features, embedding_dim, input_length=maxlen))\n",
        "model.add(Embedding(max_features,32, input_length=maxlen))\n",
        "model.add(Conv1D(filters=64, kernel_size=3, padding='same', activation='relu'))\n",
        "model.add(MaxPooling1D(pool_size=2))\n",
        "model.add(layers.LSTM(100,dropout=0.2,recurrent_dropout=0.2,kernel_regularizer=l2(0.01)))\n",
        "model.add(Dropout(0.5)) \n",
        "model.add(Dense(3,activation='softmax'))\n",
        "\n",
        "model.summary()"
      ],
      "metadata": {
        "colab": {
          "base_uri": "https://localhost:8080/"
        },
        "id": "aJpVwMFKvmA_",
        "outputId": "23254d2f-b529-4786-dabb-a66e3c2b7323"
      },
      "execution_count": null,
      "outputs": [
        {
          "output_type": "stream",
          "name": "stdout",
          "text": [
            "Model: \"sequential\"\n",
            "_________________________________________________________________\n",
            " Layer (type)                Output Shape              Param #   \n",
            "=================================================================\n",
            " embedding (Embedding)       (None, 20, 32)            320000    \n",
            "                                                                 \n",
            " lstm (LSTM)                 (None, 100)               53200     \n",
            "                                                                 \n",
            " dropout (Dropout)           (None, 100)               0         \n",
            "                                                                 \n",
            " dense (Dense)               (None, 3)                 303       \n",
            "                                                                 \n",
            "=================================================================\n",
            "Total params: 373,503\n",
            "Trainable params: 373,503\n",
            "Non-trainable params: 0\n",
            "_________________________________________________________________\n"
          ]
        }
      ]
    },
    {
      "cell_type": "code",
      "source": [
        "model.compile(optimizer='Adam', loss='categorical_crossentropy', metrics='acc') #mape: Mean Absolute Percentage Error\n",
        "history = model.fit(X_train, y_train,\n",
        "                    epochs=10,\n",
        "                    steps_per_epoch = 128,\n",
        "                    batch_size=batch_size,\n",
        "                   validation_data=(X_test,y_test))\n",
        "\n",
        "keras.backend.clear_session()\n",
        "del model"
      ],
      "metadata": {
        "colab": {
          "base_uri": "https://localhost:8080/"
        },
        "id": "jtp2nhTqyiaT",
        "outputId": "a2d22ea5-9c9d-4ae5-ddc1-fe8323bfc1bb"
      },
      "execution_count": null,
      "outputs": [
        {
          "output_type": "stream",
          "name": "stdout",
          "text": [
            "Epoch 1/10\n",
            "128/128 [==============================] - 22s 152ms/step - loss: 0.8571 - acc: 0.7803 - val_loss: 0.6135 - val_acc: 0.7808\n",
            "Epoch 2/10\n",
            "128/128 [==============================] - 19s 149ms/step - loss: 0.5921 - acc: 0.7893 - val_loss: 0.5581 - val_acc: 0.8001\n",
            "Epoch 3/10\n",
            "128/128 [==============================] - 19s 149ms/step - loss: 0.5526 - acc: 0.8042 - val_loss: 0.5323 - val_acc: 0.8113\n",
            "Epoch 4/10\n",
            "128/128 [==============================] - 19s 150ms/step - loss: 0.5186 - acc: 0.8157 - val_loss: 0.5238 - val_acc: 0.8106\n",
            "Epoch 5/10\n",
            "128/128 [==============================] - 19s 148ms/step - loss: 0.5068 - acc: 0.8247 - val_loss: 0.5154 - val_acc: 0.8096\n",
            "Epoch 6/10\n",
            "128/128 [==============================] - 19s 153ms/step - loss: 0.5109 - acc: 0.8254 - val_loss: 0.5024 - val_acc: 0.8208\n",
            "Epoch 7/10\n",
            "128/128 [==============================] - 19s 148ms/step - loss: 0.5134 - acc: 0.8188 - val_loss: 0.4985 - val_acc: 0.8200\n",
            "Epoch 8/10\n",
            "128/128 [==============================] - 19s 148ms/step - loss: 0.4979 - acc: 0.8242 - val_loss: 0.4889 - val_acc: 0.8237\n",
            "Epoch 9/10\n",
            "128/128 [==============================] - 19s 150ms/step - loss: 0.4981 - acc: 0.8276 - val_loss: 0.4857 - val_acc: 0.8248\n",
            "Epoch 10/10\n",
            "128/128 [==============================] - 19s 149ms/step - loss: 0.5005 - acc: 0.8301 - val_loss: 0.4849 - val_acc: 0.8249\n"
          ]
        }
      ]
    },
    {
      "cell_type": "code",
      "source": [
        "import matplotlib.pyplot as plt\n",
        "\n",
        "mape = history.history['acc']\n",
        "val_mape = history.history['val_acc']\n",
        "loss = history.history['loss']\n",
        "val_loss = history.history['val_loss']\n",
        "\n",
        "epochs = range(len(loss))\n",
        "\n",
        "plt.plot(epochs, mape, 'r', label='Training acc')\n",
        "plt.plot(epochs, val_mape, 'b', label='Validation acc')\n",
        "plt.title('Training and validation acc')\n",
        "plt.legend()\n",
        "plt.ylim(ymax=0.9,ymin=0.7)\n",
        "\n",
        "plt.show()"
      ],
      "metadata": {
        "colab": {
          "base_uri": "https://localhost:8080/",
          "height": 281
        },
        "id": "EBuF7gwE_cb6",
        "outputId": "05cc161b-ad56-4b04-eaf2-8ee132934457"
      },
      "execution_count": null,
      "outputs": [
        {
          "output_type": "display_data",
          "data": {
            "text/plain": [
              "<Figure size 432x288 with 1 Axes>"
            ],
            "image/png": "[encoded data removed]"
          },
          "metadata": {
            "needs_background": "light"
          }
        }
      ]
    }
  ]
}